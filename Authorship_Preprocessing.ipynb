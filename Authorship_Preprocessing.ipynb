{
  "nbformat": 4,
  "nbformat_minor": 0,
  "metadata": {
    "colab": {
      "provenance": [],
      "toc_visible": true
    },
    "kernelspec": {
      "name": "python3",
      "display_name": "Python 3"
    },
    "language_info": {
      "name": "python"
    },
    "gpuClass": "standard",
    "accelerator": "GPU"
  },
  "cells": [
    {
      "cell_type": "markdown",
      "source": [
        "#**Data Preprocessing for Authorship Analysis**"
      ],
      "metadata": {
        "id": "QkZ86czIaJbI"
      }
    },
    {
      "cell_type": "markdown",
      "source": [
        "##**Load Dataset**"
      ],
      "metadata": {
        "id": "_cWqyTQba5Pw"
      }
    },
    {
      "cell_type": "code",
      "source": [
        "import pandas as pd\n",
        "\n",
        "#data_age = pd.read_csv(\"/content/drive/MyDrive/Authorship/age_dataset.csv\", quotechar='|', lineterminator='\\n', low_memory=False)\n",
        "#data_gender = pd.read_csv(\"/content/drive/MyDrive/Authorship/genders_dataset.csv\", quotechar='|', lineterminator='\\n', low_memory=False)\n",
        "data_politics = pd.read_csv(\"/content/drive/MyDrive/Authorship/politics_dataset.csv\", quotechar='|', lineterminator='\\n', low_memory=False)"
      ],
      "metadata": {
        "id": "CtmfQWKDkNbM"
      },
      "execution_count": 56,
      "outputs": []
    },
    {
      "cell_type": "code",
      "source": [
        "data_politics"
      ],
      "metadata": {
        "colab": {
          "base_uri": "https://localhost:8080/",
          "height": 424
        },
        "id": "pPpesgqOmjiU",
        "outputId": "4c8b2cb8-60b3-411b-97e1-5cb0f0569cb2"
      },
      "execution_count": 58,
      "outputs": [
        {
          "output_type": "execute_result",
          "data": {
            "text/plain": [
              "             username     user_id      tweet_id  \\\n",
              "0       fuchsofficial  2309779899  1.409303e+18   \n",
              "1       fuchsofficial  2309779899  1.408952e+18   \n",
              "2       fuchsofficial  2309779899  1.408931e+18   \n",
              "3       fuchsofficial  2309779899  1.408764e+18   \n",
              "4       fuchsofficial  2309779899  1.407433e+18   \n",
              "...               ...         ...           ...   \n",
              "444937      sjcycling  1023573182  1.344784e+18   \n",
              "444938      sjcycling  1023573182  1.344685e+18   \n",
              "444939      sjcycling  1023573182  1.344427e+18   \n",
              "444940      sjcycling  1023573182  1.344393e+18   \n",
              "444941      sjcycling    10235731           NaN   \n",
              "\n",
              "                                                    tweet political_stance  \n",
              "0       @andielcfcsutton @lcfcgeorgee People tag me at...              dem  \n",
              "1       Thank you Mike! It’s my turn for the next fund...              dem  \n",
              "2       @lcfcgeorgee You sure? No other player ever? H...              dem  \n",
              "3       It has been an amazing experience to visit @We...              dem  \n",
              "4       Dave Merrell has captured my pass in another a...              dem  \n",
              "...                                                   ...              ...  \n",
              "444937                @littledeekay You are very brave ❤️              dem  \n",
              "444938  @JRubinBlogger So well said! I couldn’t agree ...              dem  \n",
              "444939          I really don’t like robotic #RadicalKelly              dem  \n",
              "444940  @HawleyMO Your transparent political posturing...              dem  \n",
              "444941                                                NaN              NaN  \n",
              "\n",
              "[444942 rows x 5 columns]"
            ],
            "text/html": [
              "\n",
              "  <div id=\"df-7a20e9ae-dad2-4840-b5dc-426ba95fc410\">\n",
              "    <div class=\"colab-df-container\">\n",
              "      <div>\n",
              "<style scoped>\n",
              "    .dataframe tbody tr th:only-of-type {\n",
              "        vertical-align: middle;\n",
              "    }\n",
              "\n",
              "    .dataframe tbody tr th {\n",
              "        vertical-align: top;\n",
              "    }\n",
              "\n",
              "    .dataframe thead th {\n",
              "        text-align: right;\n",
              "    }\n",
              "</style>\n",
              "<table border=\"1\" class=\"dataframe\">\n",
              "  <thead>\n",
              "    <tr style=\"text-align: right;\">\n",
              "      <th></th>\n",
              "      <th>username</th>\n",
              "      <th>user_id</th>\n",
              "      <th>tweet_id</th>\n",
              "      <th>tweet</th>\n",
              "      <th>political_stance</th>\n",
              "    </tr>\n",
              "  </thead>\n",
              "  <tbody>\n",
              "    <tr>\n",
              "      <th>0</th>\n",
              "      <td>fuchsofficial</td>\n",
              "      <td>2309779899</td>\n",
              "      <td>1.409303e+18</td>\n",
              "      <td>@andielcfcsutton @lcfcgeorgee People tag me at...</td>\n",
              "      <td>dem</td>\n",
              "    </tr>\n",
              "    <tr>\n",
              "      <th>1</th>\n",
              "      <td>fuchsofficial</td>\n",
              "      <td>2309779899</td>\n",
              "      <td>1.408952e+18</td>\n",
              "      <td>Thank you Mike! It’s my turn for the next fund...</td>\n",
              "      <td>dem</td>\n",
              "    </tr>\n",
              "    <tr>\n",
              "      <th>2</th>\n",
              "      <td>fuchsofficial</td>\n",
              "      <td>2309779899</td>\n",
              "      <td>1.408931e+18</td>\n",
              "      <td>@lcfcgeorgee You sure? No other player ever? H...</td>\n",
              "      <td>dem</td>\n",
              "    </tr>\n",
              "    <tr>\n",
              "      <th>3</th>\n",
              "      <td>fuchsofficial</td>\n",
              "      <td>2309779899</td>\n",
              "      <td>1.408764e+18</td>\n",
              "      <td>It has been an amazing experience to visit @We...</td>\n",
              "      <td>dem</td>\n",
              "    </tr>\n",
              "    <tr>\n",
              "      <th>4</th>\n",
              "      <td>fuchsofficial</td>\n",
              "      <td>2309779899</td>\n",
              "      <td>1.407433e+18</td>\n",
              "      <td>Dave Merrell has captured my pass in another a...</td>\n",
              "      <td>dem</td>\n",
              "    </tr>\n",
              "    <tr>\n",
              "      <th>...</th>\n",
              "      <td>...</td>\n",
              "      <td>...</td>\n",
              "      <td>...</td>\n",
              "      <td>...</td>\n",
              "      <td>...</td>\n",
              "    </tr>\n",
              "    <tr>\n",
              "      <th>444937</th>\n",
              "      <td>sjcycling</td>\n",
              "      <td>1023573182</td>\n",
              "      <td>1.344784e+18</td>\n",
              "      <td>@littledeekay You are very brave ❤️</td>\n",
              "      <td>dem</td>\n",
              "    </tr>\n",
              "    <tr>\n",
              "      <th>444938</th>\n",
              "      <td>sjcycling</td>\n",
              "      <td>1023573182</td>\n",
              "      <td>1.344685e+18</td>\n",
              "      <td>@JRubinBlogger So well said! I couldn’t agree ...</td>\n",
              "      <td>dem</td>\n",
              "    </tr>\n",
              "    <tr>\n",
              "      <th>444939</th>\n",
              "      <td>sjcycling</td>\n",
              "      <td>1023573182</td>\n",
              "      <td>1.344427e+18</td>\n",
              "      <td>I really don’t like robotic #RadicalKelly</td>\n",
              "      <td>dem</td>\n",
              "    </tr>\n",
              "    <tr>\n",
              "      <th>444940</th>\n",
              "      <td>sjcycling</td>\n",
              "      <td>1023573182</td>\n",
              "      <td>1.344393e+18</td>\n",
              "      <td>@HawleyMO Your transparent political posturing...</td>\n",
              "      <td>dem</td>\n",
              "    </tr>\n",
              "    <tr>\n",
              "      <th>444941</th>\n",
              "      <td>sjcycling</td>\n",
              "      <td>10235731</td>\n",
              "      <td>NaN</td>\n",
              "      <td>NaN</td>\n",
              "      <td>NaN</td>\n",
              "    </tr>\n",
              "  </tbody>\n",
              "</table>\n",
              "<p>444942 rows × 5 columns</p>\n",
              "</div>\n",
              "      <button class=\"colab-df-convert\" onclick=\"convertToInteractive('df-7a20e9ae-dad2-4840-b5dc-426ba95fc410')\"\n",
              "              title=\"Convert this dataframe to an interactive table.\"\n",
              "              style=\"display:none;\">\n",
              "        \n",
              "  <svg xmlns=\"http://www.w3.org/2000/svg\" height=\"24px\"viewBox=\"0 0 24 24\"\n",
              "       width=\"24px\">\n",
              "    <path d=\"M0 0h24v24H0V0z\" fill=\"none\"/>\n",
              "    <path d=\"M18.56 5.44l.94 2.06.94-2.06 2.06-.94-2.06-.94-.94-2.06-.94 2.06-2.06.94zm-11 1L8.5 8.5l.94-2.06 2.06-.94-2.06-.94L8.5 2.5l-.94 2.06-2.06.94zm10 10l.94 2.06.94-2.06 2.06-.94-2.06-.94-.94-2.06-.94 2.06-2.06.94z\"/><path d=\"M17.41 7.96l-1.37-1.37c-.4-.4-.92-.59-1.43-.59-.52 0-1.04.2-1.43.59L10.3 9.45l-7.72 7.72c-.78.78-.78 2.05 0 2.83L4 21.41c.39.39.9.59 1.41.59.51 0 1.02-.2 1.41-.59l7.78-7.78 2.81-2.81c.8-.78.8-2.07 0-2.86zM5.41 20L4 18.59l7.72-7.72 1.47 1.35L5.41 20z\"/>\n",
              "  </svg>\n",
              "      </button>\n",
              "      \n",
              "  <style>\n",
              "    .colab-df-container {\n",
              "      display:flex;\n",
              "      flex-wrap:wrap;\n",
              "      gap: 12px;\n",
              "    }\n",
              "\n",
              "    .colab-df-convert {\n",
              "      background-color: #E8F0FE;\n",
              "      border: none;\n",
              "      border-radius: 50%;\n",
              "      cursor: pointer;\n",
              "      display: none;\n",
              "      fill: #1967D2;\n",
              "      height: 32px;\n",
              "      padding: 0 0 0 0;\n",
              "      width: 32px;\n",
              "    }\n",
              "\n",
              "    .colab-df-convert:hover {\n",
              "      background-color: #E2EBFA;\n",
              "      box-shadow: 0px 1px 2px rgba(60, 64, 67, 0.3), 0px 1px 3px 1px rgba(60, 64, 67, 0.15);\n",
              "      fill: #174EA6;\n",
              "    }\n",
              "\n",
              "    [theme=dark] .colab-df-convert {\n",
              "      background-color: #3B4455;\n",
              "      fill: #D2E3FC;\n",
              "    }\n",
              "\n",
              "    [theme=dark] .colab-df-convert:hover {\n",
              "      background-color: #434B5C;\n",
              "      box-shadow: 0px 1px 3px 1px rgba(0, 0, 0, 0.15);\n",
              "      filter: drop-shadow(0px 1px 2px rgba(0, 0, 0, 0.3));\n",
              "      fill: #FFFFFF;\n",
              "    }\n",
              "  </style>\n",
              "\n",
              "      <script>\n",
              "        const buttonEl =\n",
              "          document.querySelector('#df-7a20e9ae-dad2-4840-b5dc-426ba95fc410 button.colab-df-convert');\n",
              "        buttonEl.style.display =\n",
              "          google.colab.kernel.accessAllowed ? 'block' : 'none';\n",
              "\n",
              "        async function convertToInteractive(key) {\n",
              "          const element = document.querySelector('#df-7a20e9ae-dad2-4840-b5dc-426ba95fc410');\n",
              "          const dataTable =\n",
              "            await google.colab.kernel.invokeFunction('convertToInteractive',\n",
              "                                                     [key], {});\n",
              "          if (!dataTable) return;\n",
              "\n",
              "          const docLinkHtml = 'Like what you see? Visit the ' +\n",
              "            '<a target=\"_blank\" href=https://colab.research.google.com/notebooks/data_table.ipynb>data table notebook</a>'\n",
              "            + ' to learn more about interactive tables.';\n",
              "          element.innerHTML = '';\n",
              "          dataTable['output_type'] = 'display_data';\n",
              "          await google.colab.output.renderOutput(dataTable, element);\n",
              "          const docLink = document.createElement('div');\n",
              "          docLink.innerHTML = docLinkHtml;\n",
              "          element.appendChild(docLink);\n",
              "        }\n",
              "      </script>\n",
              "    </div>\n",
              "  </div>\n",
              "  "
            ]
          },
          "metadata": {},
          "execution_count": 58
        }
      ]
    },
    {
      "cell_type": "code",
      "source": [
        "df = data_politics\n",
        "df['tweet'].dropna(inplace=True)\n",
        "df['tweet_str'] = df['tweet'].astype(str)\n",
        "df"
      ],
      "metadata": {
        "colab": {
          "base_uri": "https://localhost:8080/",
          "height": 624
        },
        "id": "dAtmr66UkPaJ",
        "outputId": "a8151890-7b65-4e69-f4dd-6999c22e66ec"
      },
      "execution_count": 59,
      "outputs": [
        {
          "output_type": "execute_result",
          "data": {
            "text/plain": [
              "             username     user_id      tweet_id  \\\n",
              "0       fuchsofficial  2309779899  1.409303e+18   \n",
              "1       fuchsofficial  2309779899  1.408952e+18   \n",
              "2       fuchsofficial  2309779899  1.408931e+18   \n",
              "3       fuchsofficial  2309779899  1.408764e+18   \n",
              "4       fuchsofficial  2309779899  1.407433e+18   \n",
              "...               ...         ...           ...   \n",
              "444937      sjcycling  1023573182  1.344784e+18   \n",
              "444938      sjcycling  1023573182  1.344685e+18   \n",
              "444939      sjcycling  1023573182  1.344427e+18   \n",
              "444940      sjcycling  1023573182  1.344393e+18   \n",
              "444941      sjcycling    10235731           NaN   \n",
              "\n",
              "                                                    tweet political_stance  \\\n",
              "0       @andielcfcsutton @lcfcgeorgee People tag me at...              dem   \n",
              "1       Thank you Mike! It’s my turn for the next fund...              dem   \n",
              "2       @lcfcgeorgee You sure? No other player ever? H...              dem   \n",
              "3       It has been an amazing experience to visit @We...              dem   \n",
              "4       Dave Merrell has captured my pass in another a...              dem   \n",
              "...                                                   ...              ...   \n",
              "444937                @littledeekay You are very brave ❤️              dem   \n",
              "444938  @JRubinBlogger So well said! I couldn’t agree ...              dem   \n",
              "444939          I really don’t like robotic #RadicalKelly              dem   \n",
              "444940  @HawleyMO Your transparent political posturing...              dem   \n",
              "444941                                                NaN              NaN   \n",
              "\n",
              "                                                tweet_str  \n",
              "0       @andielcfcsutton @lcfcgeorgee People tag me at...  \n",
              "1       Thank you Mike! It’s my turn for the next fund...  \n",
              "2       @lcfcgeorgee You sure? No other player ever? H...  \n",
              "3       It has been an amazing experience to visit @We...  \n",
              "4       Dave Merrell has captured my pass in another a...  \n",
              "...                                                   ...  \n",
              "444937                @littledeekay You are very brave ❤️  \n",
              "444938  @JRubinBlogger So well said! I couldn’t agree ...  \n",
              "444939          I really don’t like robotic #RadicalKelly  \n",
              "444940  @HawleyMO Your transparent political posturing...  \n",
              "444941                                                nan  \n",
              "\n",
              "[444942 rows x 6 columns]"
            ],
            "text/html": [
              "\n",
              "  <div id=\"df-ce3f5dd3-1080-42d3-a6fe-a17d90610557\">\n",
              "    <div class=\"colab-df-container\">\n",
              "      <div>\n",
              "<style scoped>\n",
              "    .dataframe tbody tr th:only-of-type {\n",
              "        vertical-align: middle;\n",
              "    }\n",
              "\n",
              "    .dataframe tbody tr th {\n",
              "        vertical-align: top;\n",
              "    }\n",
              "\n",
              "    .dataframe thead th {\n",
              "        text-align: right;\n",
              "    }\n",
              "</style>\n",
              "<table border=\"1\" class=\"dataframe\">\n",
              "  <thead>\n",
              "    <tr style=\"text-align: right;\">\n",
              "      <th></th>\n",
              "      <th>username</th>\n",
              "      <th>user_id</th>\n",
              "      <th>tweet_id</th>\n",
              "      <th>tweet</th>\n",
              "      <th>political_stance</th>\n",
              "      <th>tweet_str</th>\n",
              "    </tr>\n",
              "  </thead>\n",
              "  <tbody>\n",
              "    <tr>\n",
              "      <th>0</th>\n",
              "      <td>fuchsofficial</td>\n",
              "      <td>2309779899</td>\n",
              "      <td>1.409303e+18</td>\n",
              "      <td>@andielcfcsutton @lcfcgeorgee People tag me at...</td>\n",
              "      <td>dem</td>\n",
              "      <td>@andielcfcsutton @lcfcgeorgee People tag me at...</td>\n",
              "    </tr>\n",
              "    <tr>\n",
              "      <th>1</th>\n",
              "      <td>fuchsofficial</td>\n",
              "      <td>2309779899</td>\n",
              "      <td>1.408952e+18</td>\n",
              "      <td>Thank you Mike! It’s my turn for the next fund...</td>\n",
              "      <td>dem</td>\n",
              "      <td>Thank you Mike! It’s my turn for the next fund...</td>\n",
              "    </tr>\n",
              "    <tr>\n",
              "      <th>2</th>\n",
              "      <td>fuchsofficial</td>\n",
              "      <td>2309779899</td>\n",
              "      <td>1.408931e+18</td>\n",
              "      <td>@lcfcgeorgee You sure? No other player ever? H...</td>\n",
              "      <td>dem</td>\n",
              "      <td>@lcfcgeorgee You sure? No other player ever? H...</td>\n",
              "    </tr>\n",
              "    <tr>\n",
              "      <th>3</th>\n",
              "      <td>fuchsofficial</td>\n",
              "      <td>2309779899</td>\n",
              "      <td>1.408764e+18</td>\n",
              "      <td>It has been an amazing experience to visit @We...</td>\n",
              "      <td>dem</td>\n",
              "      <td>It has been an amazing experience to visit @We...</td>\n",
              "    </tr>\n",
              "    <tr>\n",
              "      <th>4</th>\n",
              "      <td>fuchsofficial</td>\n",
              "      <td>2309779899</td>\n",
              "      <td>1.407433e+18</td>\n",
              "      <td>Dave Merrell has captured my pass in another a...</td>\n",
              "      <td>dem</td>\n",
              "      <td>Dave Merrell has captured my pass in another a...</td>\n",
              "    </tr>\n",
              "    <tr>\n",
              "      <th>...</th>\n",
              "      <td>...</td>\n",
              "      <td>...</td>\n",
              "      <td>...</td>\n",
              "      <td>...</td>\n",
              "      <td>...</td>\n",
              "      <td>...</td>\n",
              "    </tr>\n",
              "    <tr>\n",
              "      <th>444937</th>\n",
              "      <td>sjcycling</td>\n",
              "      <td>1023573182</td>\n",
              "      <td>1.344784e+18</td>\n",
              "      <td>@littledeekay You are very brave ❤️</td>\n",
              "      <td>dem</td>\n",
              "      <td>@littledeekay You are very brave ❤️</td>\n",
              "    </tr>\n",
              "    <tr>\n",
              "      <th>444938</th>\n",
              "      <td>sjcycling</td>\n",
              "      <td>1023573182</td>\n",
              "      <td>1.344685e+18</td>\n",
              "      <td>@JRubinBlogger So well said! I couldn’t agree ...</td>\n",
              "      <td>dem</td>\n",
              "      <td>@JRubinBlogger So well said! I couldn’t agree ...</td>\n",
              "    </tr>\n",
              "    <tr>\n",
              "      <th>444939</th>\n",
              "      <td>sjcycling</td>\n",
              "      <td>1023573182</td>\n",
              "      <td>1.344427e+18</td>\n",
              "      <td>I really don’t like robotic #RadicalKelly</td>\n",
              "      <td>dem</td>\n",
              "      <td>I really don’t like robotic #RadicalKelly</td>\n",
              "    </tr>\n",
              "    <tr>\n",
              "      <th>444940</th>\n",
              "      <td>sjcycling</td>\n",
              "      <td>1023573182</td>\n",
              "      <td>1.344393e+18</td>\n",
              "      <td>@HawleyMO Your transparent political posturing...</td>\n",
              "      <td>dem</td>\n",
              "      <td>@HawleyMO Your transparent political posturing...</td>\n",
              "    </tr>\n",
              "    <tr>\n",
              "      <th>444941</th>\n",
              "      <td>sjcycling</td>\n",
              "      <td>10235731</td>\n",
              "      <td>NaN</td>\n",
              "      <td>NaN</td>\n",
              "      <td>NaN</td>\n",
              "      <td>nan</td>\n",
              "    </tr>\n",
              "  </tbody>\n",
              "</table>\n",
              "<p>444942 rows × 6 columns</p>\n",
              "</div>\n",
              "      <button class=\"colab-df-convert\" onclick=\"convertToInteractive('df-ce3f5dd3-1080-42d3-a6fe-a17d90610557')\"\n",
              "              title=\"Convert this dataframe to an interactive table.\"\n",
              "              style=\"display:none;\">\n",
              "        \n",
              "  <svg xmlns=\"http://www.w3.org/2000/svg\" height=\"24px\"viewBox=\"0 0 24 24\"\n",
              "       width=\"24px\">\n",
              "    <path d=\"M0 0h24v24H0V0z\" fill=\"none\"/>\n",
              "    <path d=\"M18.56 5.44l.94 2.06.94-2.06 2.06-.94-2.06-.94-.94-2.06-.94 2.06-2.06.94zm-11 1L8.5 8.5l.94-2.06 2.06-.94-2.06-.94L8.5 2.5l-.94 2.06-2.06.94zm10 10l.94 2.06.94-2.06 2.06-.94-2.06-.94-.94-2.06-.94 2.06-2.06.94z\"/><path d=\"M17.41 7.96l-1.37-1.37c-.4-.4-.92-.59-1.43-.59-.52 0-1.04.2-1.43.59L10.3 9.45l-7.72 7.72c-.78.78-.78 2.05 0 2.83L4 21.41c.39.39.9.59 1.41.59.51 0 1.02-.2 1.41-.59l7.78-7.78 2.81-2.81c.8-.78.8-2.07 0-2.86zM5.41 20L4 18.59l7.72-7.72 1.47 1.35L5.41 20z\"/>\n",
              "  </svg>\n",
              "      </button>\n",
              "      \n",
              "  <style>\n",
              "    .colab-df-container {\n",
              "      display:flex;\n",
              "      flex-wrap:wrap;\n",
              "      gap: 12px;\n",
              "    }\n",
              "\n",
              "    .colab-df-convert {\n",
              "      background-color: #E8F0FE;\n",
              "      border: none;\n",
              "      border-radius: 50%;\n",
              "      cursor: pointer;\n",
              "      display: none;\n",
              "      fill: #1967D2;\n",
              "      height: 32px;\n",
              "      padding: 0 0 0 0;\n",
              "      width: 32px;\n",
              "    }\n",
              "\n",
              "    .colab-df-convert:hover {\n",
              "      background-color: #E2EBFA;\n",
              "      box-shadow: 0px 1px 2px rgba(60, 64, 67, 0.3), 0px 1px 3px 1px rgba(60, 64, 67, 0.15);\n",
              "      fill: #174EA6;\n",
              "    }\n",
              "\n",
              "    [theme=dark] .colab-df-convert {\n",
              "      background-color: #3B4455;\n",
              "      fill: #D2E3FC;\n",
              "    }\n",
              "\n",
              "    [theme=dark] .colab-df-convert:hover {\n",
              "      background-color: #434B5C;\n",
              "      box-shadow: 0px 1px 3px 1px rgba(0, 0, 0, 0.15);\n",
              "      filter: drop-shadow(0px 1px 2px rgba(0, 0, 0, 0.3));\n",
              "      fill: #FFFFFF;\n",
              "    }\n",
              "  </style>\n",
              "\n",
              "      <script>\n",
              "        const buttonEl =\n",
              "          document.querySelector('#df-ce3f5dd3-1080-42d3-a6fe-a17d90610557 button.colab-df-convert');\n",
              "        buttonEl.style.display =\n",
              "          google.colab.kernel.accessAllowed ? 'block' : 'none';\n",
              "\n",
              "        async function convertToInteractive(key) {\n",
              "          const element = document.querySelector('#df-ce3f5dd3-1080-42d3-a6fe-a17d90610557');\n",
              "          const dataTable =\n",
              "            await google.colab.kernel.invokeFunction('convertToInteractive',\n",
              "                                                     [key], {});\n",
              "          if (!dataTable) return;\n",
              "\n",
              "          const docLinkHtml = 'Like what you see? Visit the ' +\n",
              "            '<a target=\"_blank\" href=https://colab.research.google.com/notebooks/data_table.ipynb>data table notebook</a>'\n",
              "            + ' to learn more about interactive tables.';\n",
              "          element.innerHTML = '';\n",
              "          dataTable['output_type'] = 'display_data';\n",
              "          await google.colab.output.renderOutput(dataTable, element);\n",
              "          const docLink = document.createElement('div');\n",
              "          docLink.innerHTML = docLinkHtml;\n",
              "          element.appendChild(docLink);\n",
              "        }\n",
              "      </script>\n",
              "    </div>\n",
              "  </div>\n",
              "  "
            ]
          },
          "metadata": {},
          "execution_count": 59
        }
      ]
    },
    {
      "cell_type": "markdown",
      "source": [
        "## **Data Preprocessing**\n",
        "Data cleaning procedure before analysis:\n",
        "*   Remove URLs and HTML links\n",
        "*   Remove mention (‘@\\w+’)\n",
        "*   Remove numbers\n",
        "*   Remove hashtags ('#\\w+')\n",
        "*   Remove punctuation\n",
        "*   Remove Emoji and Emotions\n",
        "*   Remove stopwords\n",
        "*   Change to lower case\n",
        "*   Remove extra white space left\n",
        "*   Combine tweets of a single user into a single document\n",
        "*   Tokenize the corpus and create the vocabulary\n",
        "\n",
        "\n",
        "\n",
        "\n",
        "\n",
        "\n"
      ],
      "metadata": {
        "id": "JIx0qgcwCG2o"
      }
    },
    {
      "cell_type": "markdown",
      "source": [
        "####**Remove URLs and HTML links**"
      ],
      "metadata": {
        "id": "HC5q8FNzDZMA"
      }
    },
    {
      "cell_type": "code",
      "source": [
        "# Remove URLs and HTML links\n",
        "import re\n",
        "def check_urls(text):\n",
        "    return re.findall(r'https?://\\S+|www\\.\\S+',text)\n",
        "\n",
        "def remove_urls(text):\n",
        "    url_remove = re.compile(r'https?://\\S+|www\\.\\S+')\n",
        "    return re.sub(r'https?://\\S+|www\\.\\S+','',text)\n",
        "\n",
        "df['check']=df['tweet_str'].apply(lambda x:check_urls(x))\n",
        "print(\"-----check-----\")\n",
        "for x in df['check'][:4]:\n",
        "  print(x) \n",
        "\n",
        "df['tweet_str']=df['tweet_str'].apply(lambda x:remove_urls(x))\n",
        "print(\"\\n-----result-----\")\n",
        "for x in df['tweet_str'][:4]:\n",
        "  print(\"*** \"+x)"
      ],
      "metadata": {
        "colab": {
          "base_uri": "https://localhost:8080/"
        },
        "id": "dgFtLN6zlZFm",
        "outputId": "04ac0e12-d7c5-4bb3-eb43-04225831b190"
      },
      "execution_count": 60,
      "outputs": [
        {
          "output_type": "stream",
          "name": "stdout",
          "text": [
            "-----check-----\n",
            "['https://t.co/jvrndAIpZo']\n",
            "[]\n",
            "[]\n",
            "['https://t.co/aJyVmdosjw']\n",
            "\n",
            "-----result-----\n",
            "*** @andielcfcsutton @lcfcgeorgee People tag me at times doi  \n",
            "*** Thank you Mike! It’s my turn for the next fundraiser! 💪🏼 #Charity #fundraising\n",
            "*** @lcfcgeorgee You sure? No other player ever? He has a couple of years to go before he can claim that title! 🤔😉\n",
            "*** It has been an amazing experience to visit @WestPoint_USMA. Thank you for hosting and letting me do some combat simulation drills @armywpesports. Looking forward to come back! Thank you for your service! @USArmyesports @USArmy  #USArmy @GoArmyWestPoint @ArmyWP_WSocc  \n"
          ]
        }
      ]
    },
    {
      "cell_type": "markdown",
      "source": [
        "####**Remove mention (‘@\\w+’)**\n"
      ],
      "metadata": {
        "id": "VPDaZgPVDuGf"
      }
    },
    {
      "cell_type": "code",
      "source": [
        "# Remove mention\n",
        "import re\n",
        "def check_mention(x):\n",
        "    return re.findall(r'@\\w+',x)\n",
        "def remove_mention(x):\n",
        "    return re.sub(r'@\\w+','',x)\n",
        "\n",
        "df['check']=df['tweet_str'].apply(lambda x:check_mention(x))\n",
        "print(\"-----check-----\")\n",
        "for x in df['check'][:4]:\n",
        "  print(x) \n",
        "\n",
        "df['tweet_str']=df['tweet_str'].apply(lambda x:remove_mention(x))\n",
        "print(\"\\n-----result-----\")\n",
        "for x in df['tweet_str'][:4]:\n",
        "  print(\"*** \"+x) "
      ],
      "metadata": {
        "colab": {
          "base_uri": "https://localhost:8080/"
        },
        "id": "DqCVT9IwB2Qu",
        "outputId": "db9b9ff5-2bf0-4865-a44c-51f5c41839a9"
      },
      "execution_count": 61,
      "outputs": [
        {
          "output_type": "stream",
          "name": "stdout",
          "text": [
            "-----check-----\n",
            "['@andielcfcsutton', '@lcfcgeorgee']\n",
            "[]\n",
            "['@lcfcgeorgee']\n",
            "['@WestPoint_USMA', '@armywpesports', '@USArmyesports', '@USArmy', '@GoArmyWestPoint', '@ArmyWP_WSocc']\n",
            "\n",
            "-----result-----\n",
            "***   People tag me at times doi  \n",
            "*** Thank you Mike! It’s my turn for the next fundraiser! 💪🏼 #Charity #fundraising\n",
            "***  You sure? No other player ever? He has a couple of years to go before he can claim that title! 🤔😉\n",
            "*** It has been an amazing experience to visit . Thank you for hosting and letting me do some combat simulation drills . Looking forward to come back! Thank you for your service!    #USArmy    \n"
          ]
        }
      ]
    },
    {
      "cell_type": "markdown",
      "source": [
        "####**Remove numbers**\n"
      ],
      "metadata": {
        "id": "Jk2YD6uOD3KK"
      }
    },
    {
      "cell_type": "code",
      "source": [
        "#Remove numbers\n",
        "\n",
        "def check_num(text):\n",
        "    return re.findall(r'\\d+',text)\n",
        "def remove_num(text):\n",
        "    return re.sub(r'\\d+','',text)\n",
        "    \n",
        "df['check']=df['tweet_str'].apply(lambda x:check_num(x))\n",
        "print(\"-----check-----\")\n",
        "[print(x) for x in df['check'][:4]]\n",
        "\n",
        "df['tweet_str']=df['tweet_str'].apply(lambda x:remove_num(x))\n",
        "print(\"\\n-----result-----\")\n",
        "[print(\"*** \"+x) for x in df['tweet_str'][:4]]"
      ],
      "metadata": {
        "colab": {
          "base_uri": "https://localhost:8080/"
        },
        "id": "KUPyU4FIxPxW",
        "outputId": "056de37c-2791-49d5-bf8b-35799001ca0e"
      },
      "execution_count": 62,
      "outputs": [
        {
          "output_type": "stream",
          "name": "stdout",
          "text": [
            "-----check-----\n",
            "[]\n",
            "[]\n",
            "[]\n",
            "[]\n",
            "\n",
            "-----result-----\n",
            "***   People tag me at times doi  \n",
            "*** Thank you Mike! It’s my turn for the next fundraiser! 💪🏼 #Charity #fundraising\n",
            "***  You sure? No other player ever? He has a couple of years to go before he can claim that title! 🤔😉\n",
            "*** It has been an amazing experience to visit . Thank you for hosting and letting me do some combat simulation drills . Looking forward to come back! Thank you for your service!    #USArmy    \n"
          ]
        },
        {
          "output_type": "execute_result",
          "data": {
            "text/plain": [
              "[None, None, None, None]"
            ]
          },
          "metadata": {},
          "execution_count": 62
        }
      ]
    },
    {
      "cell_type": "markdown",
      "source": [
        "####**Remove hashtags ('#\\w+')**\n"
      ],
      "metadata": {
        "id": "-xGFymabD7id"
      }
    },
    {
      "cell_type": "code",
      "source": [
        "# Remove hashtags\n",
        "\n",
        "def check_hash(text):\n",
        "    return re.findall(r'#\\w+',text)\n",
        "def remove_hash(text):\n",
        "    return re.sub(r'#\\w+','',text)\n",
        "\n",
        "df['check']=df['tweet_str'].apply(lambda x:check_hash(x))\n",
        "print(\"-----check-----\")\n",
        "[print(x) for x in df['check'][:4]]\n",
        "\n",
        "df['tweet_str']=df['tweet_str'].apply(lambda x:remove_hash(x))\n",
        "print(\"\\n-----result-----\")\n",
        "[print(\"*** \"+x) for x in df['tweet_str'][:4]]"
      ],
      "metadata": {
        "colab": {
          "base_uri": "https://localhost:8080/"
        },
        "id": "PNx3ryB9x18s",
        "outputId": "587739a3-e2c6-4d15-afa7-a5e26eb659ed"
      },
      "execution_count": 63,
      "outputs": [
        {
          "output_type": "stream",
          "name": "stdout",
          "text": [
            "-----check-----\n",
            "[]\n",
            "['#Charity', '#fundraising']\n",
            "[]\n",
            "['#USArmy']\n",
            "\n",
            "-----result-----\n",
            "***   People tag me at times doi  \n",
            "*** Thank you Mike! It’s my turn for the next fundraiser! 💪🏼  \n",
            "***  You sure? No other player ever? He has a couple of years to go before he can claim that title! 🤔😉\n",
            "*** It has been an amazing experience to visit . Thank you for hosting and letting me do some combat simulation drills . Looking forward to come back! Thank you for your service!        \n"
          ]
        },
        {
          "output_type": "execute_result",
          "data": {
            "text/plain": [
              "[None, None, None, None]"
            ]
          },
          "metadata": {},
          "execution_count": 63
        }
      ]
    },
    {
      "cell_type": "markdown",
      "source": [
        "####**Remove punctuation**\n"
      ],
      "metadata": {
        "id": "5h3BWcEoD_-g"
      }
    },
    {
      "cell_type": "code",
      "source": [
        "# Remove punctuation\n",
        "\n",
        "def check_punct(text):\n",
        "    return re.findall(r'[^\\w\\s\\d]',text)\n",
        "def remove_punct(text):\n",
        "    return re.sub(r\"[^\\w\\s\\d]\",\"\", text)\n",
        "\n",
        "df['check']=df['tweet_str'].apply(lambda x:check_punct(x))\n",
        "print(\"-----check-----\")\n",
        "[print(x) for x in df['tweet_str'][:4]]\n",
        "\n",
        "df['tweet_str']=df['tweet_str'].apply(lambda x:remove_punct(x))\n",
        "print(\"\\n-----result-----\")\n",
        "[print(\"*** \"+x) for x in df['tweet_str'][:4]]"
      ],
      "metadata": {
        "colab": {
          "base_uri": "https://localhost:8080/"
        },
        "id": "sl2TIRTj63S5",
        "outputId": "9b32d847-9a23-4511-881b-fff35c7a74b9"
      },
      "execution_count": 64,
      "outputs": [
        {
          "output_type": "stream",
          "name": "stdout",
          "text": [
            "-----check-----\n",
            "  People tag me at times doi  \n",
            "Thank you Mike! It’s my turn for the next fundraiser! 💪🏼  \n",
            " You sure? No other player ever? He has a couple of years to go before he can claim that title! 🤔😉\n",
            "It has been an amazing experience to visit . Thank you for hosting and letting me do some combat simulation drills . Looking forward to come back! Thank you for your service!        \n",
            "\n",
            "-----result-----\n",
            "***   People tag me at times doi  \n",
            "*** Thank you Mike Its my turn for the next fundraiser   \n",
            "***  You sure No other player ever He has a couple of years to go before he can claim that title \n",
            "*** It has been an amazing experience to visit  Thank you for hosting and letting me do some combat simulation drills  Looking forward to come back Thank you for your service        \n"
          ]
        },
        {
          "output_type": "execute_result",
          "data": {
            "text/plain": [
              "[None, None, None, None]"
            ]
          },
          "metadata": {},
          "execution_count": 64
        }
      ]
    },
    {
      "cell_type": "markdown",
      "source": [
        "####**Remove Emoji and Emotions**\n"
      ],
      "metadata": {
        "id": "cN6EmcuyEFTI"
      }
    },
    {
      "cell_type": "code",
      "source": [
        "#Check emoji\n",
        "def check_emoji(text):\n",
        "    emoji_pattern = re.compile(\"[\"\n",
        "                           u\"\\U0001F600-\\U0001F64F\" # emoticons\n",
        "                           u\"\\U0001F300-\\U0001F5FF\" # symbols & pictographs\n",
        "                           u\"\\U0001F680-\\U0001F6FF\" # transport & map symbols\n",
        "                           u\"\\U0001F1E0-\\U0001F1FF\" # flags (iOS)\n",
        "                           u\"\\U00002702-\\U000027B0\"\n",
        "                           u\"\\U000024C2-\\U0001F251\"\n",
        "                           \"]+\", flags=re.UNICODE)\n",
        "    return re.findall(emoji_pattern, text)\n",
        "\n",
        "df['check']=df['tweet_str'].apply(lambda x:check_emoji(x))\n",
        "print(\"-----check-----\")\n",
        "[print(x) for x in df['check'][:4]]"
      ],
      "metadata": {
        "colab": {
          "base_uri": "https://localhost:8080/"
        },
        "id": "qSn46wMwyfxO",
        "outputId": "40bcbe46-0f66-42d4-f15f-f06f02f5c62b"
      },
      "execution_count": 65,
      "outputs": [
        {
          "output_type": "stream",
          "name": "stdout",
          "text": [
            "-----check-----\n",
            "[]\n",
            "[]\n",
            "[]\n",
            "[]\n"
          ]
        },
        {
          "output_type": "execute_result",
          "data": {
            "text/plain": [
              "[None, None, None, None]"
            ]
          },
          "metadata": {},
          "execution_count": 65
        }
      ]
    },
    {
      "cell_type": "code",
      "source": [
        "#Remove Emoji and Emotions\n",
        "\n",
        "def remove_emoji(text):\n",
        "    emoji_pattern = re.compile(\"[\"\n",
        "                           u\"\\U0001F600-\\U0001F64F\" # emoticons\n",
        "                           u\"\\U0001F300-\\U0001F5FF\" # symbols & pictographs\n",
        "                           u\"\\U0001F680-\\U0001F6FF\" # transport & map symbols\n",
        "                           u\"\\U0001F1E0-\\U0001F1FF\" # flags (iOS)\n",
        "                           u\"\\U00002702-\\U000027B0\"\n",
        "                           u\"\\U000024C2-\\U0001F251\"\n",
        "                           \"]+\", flags=re.UNICODE)\n",
        "    return emoji_pattern.sub(r'', text)\n",
        "\n",
        "df['tweet_str']=df['tweet_str'].apply(lambda x: remove_emoji(x))\n",
        "\n",
        "print(\"\\n-----result-----\")\n",
        "[print(\"*** \"+x) for x in df['tweet_str'][:4]]"
      ],
      "metadata": {
        "colab": {
          "base_uri": "https://localhost:8080/"
        },
        "id": "6DMwsfB1GU3y",
        "outputId": "b96d7753-7b5d-483a-aceb-1ec4aa6c0334"
      },
      "execution_count": 66,
      "outputs": [
        {
          "output_type": "stream",
          "name": "stdout",
          "text": [
            "\n",
            "-----result-----\n",
            "***   People tag me at times doi  \n",
            "*** Thank you Mike Its my turn for the next fundraiser   \n",
            "***  You sure No other player ever He has a couple of years to go before he can claim that title \n",
            "*** It has been an amazing experience to visit  Thank you for hosting and letting me do some combat simulation drills  Looking forward to come back Thank you for your service        \n"
          ]
        },
        {
          "output_type": "execute_result",
          "data": {
            "text/plain": [
              "[None, None, None, None]"
            ]
          },
          "metadata": {},
          "execution_count": 66
        }
      ]
    },
    {
      "cell_type": "markdown",
      "source": [
        "####**Remove accented characters**"
      ],
      "metadata": {
        "id": "Qlf3YqCMXuwA"
      }
    },
    {
      "cell_type": "code",
      "source": [
        "import unicodedata\n",
        "def remove_accent(text):\n",
        "    try:\n",
        "        text = unicode(text, 'utf-8')\n",
        "    except NameError:\n",
        "        pass\n",
        "    text = unicodedata.normalize('NFD', text).encode('ascii', 'ignore').decode(\"utf-8\")\n",
        "    return str(text)\n",
        "df['tweet_str']=df['tweet_str'].apply(lambda x: remove_accent(x))"
      ],
      "metadata": {
        "id": "Pa-yblO3GVjj"
      },
      "execution_count": 67,
      "outputs": []
    },
    {
      "cell_type": "code",
      "source": [
        "!pip install contractions\n",
        "import contractions\n",
        "\n",
        "df['tweet_str']=df['tweet_str'].apply(lambda x: contractions.fix(x))"
      ],
      "metadata": {
        "colab": {
          "base_uri": "https://localhost:8080/"
        },
        "id": "mSUvGmCDCH6c",
        "outputId": "e1cfd23e-5d2c-4f42-d3e5-083fdab167de"
      },
      "execution_count": 68,
      "outputs": [
        {
          "output_type": "stream",
          "name": "stdout",
          "text": [
            "Looking in indexes: https://pypi.org/simple, https://us-python.pkg.dev/colab-wheels/public/simple/\n",
            "Requirement already satisfied: contractions in /usr/local/lib/python3.9/dist-packages (0.1.73)\n",
            "Requirement already satisfied: textsearch>=0.0.21 in /usr/local/lib/python3.9/dist-packages (from contractions) (0.0.24)\n",
            "Requirement already satisfied: pyahocorasick in /usr/local/lib/python3.9/dist-packages (from textsearch>=0.0.21->contractions) (2.0.0)\n",
            "Requirement already satisfied: anyascii in /usr/local/lib/python3.9/dist-packages (from textsearch>=0.0.21->contractions) (0.3.2)\n"
          ]
        }
      ]
    },
    {
      "cell_type": "markdown",
      "source": [
        "####**Remove stopwords**"
      ],
      "metadata": {
        "id": "vqyCIkPWEXSd"
      }
    },
    {
      "cell_type": "code",
      "source": [
        "import nltk\n",
        "nltk.download('stopwords')\n",
        "from nltk.corpus import stopwords\n",
        "\", \".join(stopwords.words('english'))\n",
        "STOPWORDS = set(stopwords.words('english'))"
      ],
      "metadata": {
        "colab": {
          "base_uri": "https://localhost:8080/"
        },
        "id": "wNqf44P2DsVu",
        "outputId": "bf7d475e-a616-4c38-b54f-7afcbacd6bb9"
      },
      "execution_count": 69,
      "outputs": [
        {
          "output_type": "stream",
          "name": "stderr",
          "text": [
            "[nltk_data] Downloading package stopwords to /root/nltk_data...\n",
            "[nltk_data]   Package stopwords is already up-to-date!\n"
          ]
        }
      ]
    },
    {
      "cell_type": "code",
      "source": [
        "# Remove stopwords\n",
        "def remove_stopwords(text):\n",
        "    \"\"\"custom function to remove the stopwords\"\"\"\n",
        "    return \" \".join([word for word in str(text).split() if word not in STOPWORDS])\n",
        "df['tweet_str']=df['tweet_str'].apply(lambda x:remove_stopwords(x))\n",
        "print(\"\\n-----result-----\")\n",
        "[print(\"*** \"+x) for x in df['tweet_str'][:4]]"
      ],
      "metadata": {
        "colab": {
          "base_uri": "https://localhost:8080/"
        },
        "id": "ZrY5Vcl8EVLA",
        "outputId": "a19a95ae-a895-4a92-d758-f0bb3dd7f21b"
      },
      "execution_count": 70,
      "outputs": [
        {
          "output_type": "stream",
          "name": "stdout",
          "text": [
            "\n",
            "-----result-----\n",
            "*** People tag times doi\n",
            "*** Thank Mike Its turn next fundraiser\n",
            "*** You sure No player ever He couple years go claim title\n",
            "*** It amazing experience visit Thank hosting letting combat simulation drills Looking forward come back Thank service\n"
          ]
        },
        {
          "output_type": "execute_result",
          "data": {
            "text/plain": [
              "[None, None, None, None]"
            ]
          },
          "metadata": {},
          "execution_count": 70
        }
      ]
    },
    {
      "cell_type": "markdown",
      "source": [
        "####**Change to lower case**"
      ],
      "metadata": {
        "id": "jCC2b-eLEdrZ"
      }
    },
    {
      "cell_type": "code",
      "source": [
        "# Change to lower case\n",
        "df['tweet_str']=df['tweet_str'].apply(lambda x: x.lower())\n",
        "[print(\"*** \"+x) for x in df['tweet_str'][:4]]"
      ],
      "metadata": {
        "colab": {
          "base_uri": "https://localhost:8080/"
        },
        "id": "WArdOxyIErnK",
        "outputId": "3298f28e-a7be-4a57-e4ee-27f26f55de1c"
      },
      "execution_count": 71,
      "outputs": [
        {
          "output_type": "stream",
          "name": "stdout",
          "text": [
            "*** people tag times doi\n",
            "*** thank mike its turn next fundraiser\n",
            "*** you sure no player ever he couple years go claim title\n",
            "*** it amazing experience visit thank hosting letting combat simulation drills looking forward come back thank service\n"
          ]
        },
        {
          "output_type": "execute_result",
          "data": {
            "text/plain": [
              "[None, None, None, None]"
            ]
          },
          "metadata": {},
          "execution_count": 71
        }
      ]
    },
    {
      "cell_type": "markdown",
      "source": [
        "####**Remove extra white space left**\n"
      ],
      "metadata": {
        "id": "h1jctex0Ej1Y"
      }
    },
    {
      "cell_type": "code",
      "source": [
        "# Remove extra white space left\n",
        "def remove_space(text):\n",
        "    return re.sub(r\"\\s+\",\" \",text).strip()\n",
        "df['tweet_str']=df['tweet_str'].apply(lambda x:remove_space(x))\n",
        "print(\"\\n-----result-----\")\n",
        "[print(\"*** \"+x) for x in df['tweet_str'][:4]]"
      ],
      "metadata": {
        "colab": {
          "base_uri": "https://localhost:8080/"
        },
        "id": "U0xTcaFfE5yb",
        "outputId": "a439faf0-1927-4144-8344-069cbdc59d9e"
      },
      "execution_count": 72,
      "outputs": [
        {
          "output_type": "stream",
          "name": "stdout",
          "text": [
            "\n",
            "-----result-----\n",
            "*** people tag times doi\n",
            "*** thank mike its turn next fundraiser\n",
            "*** you sure no player ever he couple years go claim title\n",
            "*** it amazing experience visit thank hosting letting combat simulation drills looking forward come back thank service\n"
          ]
        },
        {
          "output_type": "execute_result",
          "data": {
            "text/plain": [
              "[None, None, None, None]"
            ]
          },
          "metadata": {},
          "execution_count": 72
        }
      ]
    },
    {
      "cell_type": "markdown",
      "source": [
        "####**Combine tweets of a single user into a single document**\n",
        "Combine all tweets of a single user into a single document and treat each tweet as an individual sentence, and use the combined result as the corpus\n"
      ],
      "metadata": {
        "id": "JpcHKp9vErEW"
      }
    },
    {
      "cell_type": "code",
      "source": [
        "corpus = df['tweet_str']\n",
        "corpus"
      ],
      "metadata": {
        "colab": {
          "base_uri": "https://localhost:8080/"
        },
        "id": "Zsm1x16LtyL-",
        "outputId": "75c1a475-d077-4c3f-bb39-c3d243f7a763"
      },
      "execution_count": 73,
      "outputs": [
        {
          "output_type": "execute_result",
          "data": {
            "text/plain": [
              "0                                      people tag times doi\n",
              "1                       thank mike its turn next fundraiser\n",
              "2         you sure no player ever he couple years go cla...\n",
              "3         it amazing experience visit thank hosting lett...\n",
              "4         dave merrell captured pass another amazing lim...\n",
              "                                ...                        \n",
              "444937                                            you brave\n",
              "444938    so well said i could agree i am already seeing...\n",
              "444939                                i really like robotic\n",
              "444940    your transparent political posturing pretty pa...\n",
              "444941                                                  nan\n",
              "Name: tweet_str, Length: 444942, dtype: object"
            ]
          },
          "metadata": {},
          "execution_count": 73
        }
      ]
    },
    {
      "cell_type": "code",
      "source": [
        "new_df = df.groupby('user_id').agg({'tweet_str' : ' '.join, 'political_stance': 'first'})\n",
        "new_df"
      ],
      "metadata": {
        "id": "lu_WrUdXx5oZ",
        "colab": {
          "base_uri": "https://localhost:8080/",
          "height": 455
        },
        "outputId": "95a96658-cb19-463e-c921-775342fb9599"
      },
      "execution_count": 74,
      "outputs": [
        {
          "output_type": "execute_result",
          "data": {
            "text/plain": [
              "                                                             tweet_str  \\\n",
              "user_id                                                                  \n",
              "7204                 he always look like hes trying figure crapped ...   \n",
              "755086               not like bitcoin are sure loons xeni logging o...   \n",
              "813286               libraries citadels knowledge empathyand played...   \n",
              "939091               the science clear the best way protect virus v...   \n",
              "1917731              times up says bill cosby guilty regardless pen...   \n",
              "...                                                                ...   \n",
              "1410635445596307463                                         thanks       \n",
              "1410636559590707202  attorneys company downplayed criminal charges ...   \n",
              "1410656438372950016                                        just breath   \n",
              "1410662136859271171  she dole mccarthy man in dreams the legal syst...   \n",
              "1410665576591249416  love mama monster popular books popular subjec...   \n",
              "\n",
              "                    political_stance  \n",
              "user_id                               \n",
              "7204                             dem  \n",
              "755086                           dem  \n",
              "813286                           dem  \n",
              "939091                           dem  \n",
              "1917731                          dem  \n",
              "...                              ...  \n",
              "1410635445596307463              dem  \n",
              "1410636559590707202              dem  \n",
              "1410656438372950016              dem  \n",
              "1410662136859271171              dem  \n",
              "1410665576591249416              dem  \n",
              "\n",
              "[1117 rows x 2 columns]"
            ],
            "text/html": [
              "\n",
              "  <div id=\"df-a4a0f2c8-74f2-4a33-86e8-f17a815ae49f\">\n",
              "    <div class=\"colab-df-container\">\n",
              "      <div>\n",
              "<style scoped>\n",
              "    .dataframe tbody tr th:only-of-type {\n",
              "        vertical-align: middle;\n",
              "    }\n",
              "\n",
              "    .dataframe tbody tr th {\n",
              "        vertical-align: top;\n",
              "    }\n",
              "\n",
              "    .dataframe thead th {\n",
              "        text-align: right;\n",
              "    }\n",
              "</style>\n",
              "<table border=\"1\" class=\"dataframe\">\n",
              "  <thead>\n",
              "    <tr style=\"text-align: right;\">\n",
              "      <th></th>\n",
              "      <th>tweet_str</th>\n",
              "      <th>political_stance</th>\n",
              "    </tr>\n",
              "    <tr>\n",
              "      <th>user_id</th>\n",
              "      <th></th>\n",
              "      <th></th>\n",
              "    </tr>\n",
              "  </thead>\n",
              "  <tbody>\n",
              "    <tr>\n",
              "      <th>7204</th>\n",
              "      <td>he always look like hes trying figure crapped ...</td>\n",
              "      <td>dem</td>\n",
              "    </tr>\n",
              "    <tr>\n",
              "      <th>755086</th>\n",
              "      <td>not like bitcoin are sure loons xeni logging o...</td>\n",
              "      <td>dem</td>\n",
              "    </tr>\n",
              "    <tr>\n",
              "      <th>813286</th>\n",
              "      <td>libraries citadels knowledge empathyand played...</td>\n",
              "      <td>dem</td>\n",
              "    </tr>\n",
              "    <tr>\n",
              "      <th>939091</th>\n",
              "      <td>the science clear the best way protect virus v...</td>\n",
              "      <td>dem</td>\n",
              "    </tr>\n",
              "    <tr>\n",
              "      <th>1917731</th>\n",
              "      <td>times up says bill cosby guilty regardless pen...</td>\n",
              "      <td>dem</td>\n",
              "    </tr>\n",
              "    <tr>\n",
              "      <th>...</th>\n",
              "      <td>...</td>\n",
              "      <td>...</td>\n",
              "    </tr>\n",
              "    <tr>\n",
              "      <th>1410635445596307463</th>\n",
              "      <td>thanks</td>\n",
              "      <td>dem</td>\n",
              "    </tr>\n",
              "    <tr>\n",
              "      <th>1410636559590707202</th>\n",
              "      <td>attorneys company downplayed criminal charges ...</td>\n",
              "      <td>dem</td>\n",
              "    </tr>\n",
              "    <tr>\n",
              "      <th>1410656438372950016</th>\n",
              "      <td>just breath</td>\n",
              "      <td>dem</td>\n",
              "    </tr>\n",
              "    <tr>\n",
              "      <th>1410662136859271171</th>\n",
              "      <td>she dole mccarthy man in dreams the legal syst...</td>\n",
              "      <td>dem</td>\n",
              "    </tr>\n",
              "    <tr>\n",
              "      <th>1410665576591249416</th>\n",
              "      <td>love mama monster popular books popular subjec...</td>\n",
              "      <td>dem</td>\n",
              "    </tr>\n",
              "  </tbody>\n",
              "</table>\n",
              "<p>1117 rows × 2 columns</p>\n",
              "</div>\n",
              "      <button class=\"colab-df-convert\" onclick=\"convertToInteractive('df-a4a0f2c8-74f2-4a33-86e8-f17a815ae49f')\"\n",
              "              title=\"Convert this dataframe to an interactive table.\"\n",
              "              style=\"display:none;\">\n",
              "        \n",
              "  <svg xmlns=\"http://www.w3.org/2000/svg\" height=\"24px\"viewBox=\"0 0 24 24\"\n",
              "       width=\"24px\">\n",
              "    <path d=\"M0 0h24v24H0V0z\" fill=\"none\"/>\n",
              "    <path d=\"M18.56 5.44l.94 2.06.94-2.06 2.06-.94-2.06-.94-.94-2.06-.94 2.06-2.06.94zm-11 1L8.5 8.5l.94-2.06 2.06-.94-2.06-.94L8.5 2.5l-.94 2.06-2.06.94zm10 10l.94 2.06.94-2.06 2.06-.94-2.06-.94-.94-2.06-.94 2.06-2.06.94z\"/><path d=\"M17.41 7.96l-1.37-1.37c-.4-.4-.92-.59-1.43-.59-.52 0-1.04.2-1.43.59L10.3 9.45l-7.72 7.72c-.78.78-.78 2.05 0 2.83L4 21.41c.39.39.9.59 1.41.59.51 0 1.02-.2 1.41-.59l7.78-7.78 2.81-2.81c.8-.78.8-2.07 0-2.86zM5.41 20L4 18.59l7.72-7.72 1.47 1.35L5.41 20z\"/>\n",
              "  </svg>\n",
              "      </button>\n",
              "      \n",
              "  <style>\n",
              "    .colab-df-container {\n",
              "      display:flex;\n",
              "      flex-wrap:wrap;\n",
              "      gap: 12px;\n",
              "    }\n",
              "\n",
              "    .colab-df-convert {\n",
              "      background-color: #E8F0FE;\n",
              "      border: none;\n",
              "      border-radius: 50%;\n",
              "      cursor: pointer;\n",
              "      display: none;\n",
              "      fill: #1967D2;\n",
              "      height: 32px;\n",
              "      padding: 0 0 0 0;\n",
              "      width: 32px;\n",
              "    }\n",
              "\n",
              "    .colab-df-convert:hover {\n",
              "      background-color: #E2EBFA;\n",
              "      box-shadow: 0px 1px 2px rgba(60, 64, 67, 0.3), 0px 1px 3px 1px rgba(60, 64, 67, 0.15);\n",
              "      fill: #174EA6;\n",
              "    }\n",
              "\n",
              "    [theme=dark] .colab-df-convert {\n",
              "      background-color: #3B4455;\n",
              "      fill: #D2E3FC;\n",
              "    }\n",
              "\n",
              "    [theme=dark] .colab-df-convert:hover {\n",
              "      background-color: #434B5C;\n",
              "      box-shadow: 0px 1px 3px 1px rgba(0, 0, 0, 0.15);\n",
              "      filter: drop-shadow(0px 1px 2px rgba(0, 0, 0, 0.3));\n",
              "      fill: #FFFFFF;\n",
              "    }\n",
              "  </style>\n",
              "\n",
              "      <script>\n",
              "        const buttonEl =\n",
              "          document.querySelector('#df-a4a0f2c8-74f2-4a33-86e8-f17a815ae49f button.colab-df-convert');\n",
              "        buttonEl.style.display =\n",
              "          google.colab.kernel.accessAllowed ? 'block' : 'none';\n",
              "\n",
              "        async function convertToInteractive(key) {\n",
              "          const element = document.querySelector('#df-a4a0f2c8-74f2-4a33-86e8-f17a815ae49f');\n",
              "          const dataTable =\n",
              "            await google.colab.kernel.invokeFunction('convertToInteractive',\n",
              "                                                     [key], {});\n",
              "          if (!dataTable) return;\n",
              "\n",
              "          const docLinkHtml = 'Like what you see? Visit the ' +\n",
              "            '<a target=\"_blank\" href=https://colab.research.google.com/notebooks/data_table.ipynb>data table notebook</a>'\n",
              "            + ' to learn more about interactive tables.';\n",
              "          element.innerHTML = '';\n",
              "          dataTable['output_type'] = 'display_data';\n",
              "          await google.colab.output.renderOutput(dataTable, element);\n",
              "          const docLink = document.createElement('div');\n",
              "          docLink.innerHTML = docLinkHtml;\n",
              "          element.appendChild(docLink);\n",
              "        }\n",
              "      </script>\n",
              "    </div>\n",
              "  </div>\n",
              "  "
            ]
          },
          "metadata": {},
          "execution_count": 74
        }
      ]
    },
    {
      "cell_type": "markdown",
      "source": [
        "####**Tokenize the corpus and create the vocabulary**"
      ],
      "metadata": {
        "id": "WrhQqa4XEwnZ"
      }
    },
    {
      "cell_type": "code",
      "source": [
        "#tokenized_corpus\n",
        "def tokenize_corpus(corpus):\n",
        "    tokens = [x.split() for x in corpus]\n",
        "    return tokens\n",
        "\n",
        "tokenized_corpus = tokenize_corpus(corpus)\n"
      ],
      "metadata": {
        "id": "5Owl_-vBtjnu"
      },
      "execution_count": 75,
      "outputs": []
    },
    {
      "cell_type": "code",
      "source": [
        "# Create vocabulary\n",
        "def create_vocabulary(token_list): \n",
        "  vocabulary = []\n",
        "  for sentence in token_list:\n",
        "    for token in sentence:\n",
        "      if token not in vocabulary:\n",
        "        vocabulary.append(token)\n",
        "  \n",
        "  word2idx = {w: idx for (idx, w) in enumerate(vocabulary)}\n",
        "  idx2word = {idx: w for (idx, w) in enumerate(vocabulary)}\n",
        "  return vocabulary, word2idx, idx2word\n"
      ],
      "metadata": {
        "id": "bur-neTSxURJ"
      },
      "execution_count": 76,
      "outputs": []
    },
    {
      "cell_type": "code",
      "source": [
        "vocabulary_politics, word2idx_politics, idx2word_politics = create_vocabulary(tokenized_corpus)\n",
        "#vocabulary_age, word2idx_age, idx2word_age = create_vocabulary(tokenized_corpus)\n",
        "#vocabulary_gender, word2idx_gender, idx2word_gender = create_vocabulary(tokenized_corpus)\n",
        "print(len(vocabulary_politics))"
      ],
      "metadata": {
        "colab": {
          "base_uri": "https://localhost:8080/"
        },
        "id": "D8dW7vL4yR_H",
        "outputId": "cff45b45-a58f-4283-aa3e-eb4d139abced"
      },
      "execution_count": 77,
      "outputs": [
        {
          "output_type": "stream",
          "name": "stdout",
          "text": [
            "95408\n"
          ]
        }
      ]
    }
  ]
}