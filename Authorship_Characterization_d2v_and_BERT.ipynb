{
  "nbformat": 4,
  "nbformat_minor": 0,
  "metadata": {
    "colab": {
      "provenance": [],
      "toc_visible": true,
      "collapsed_sections": [
        "WTIKdKaaIFI7"
      ]
    },
    "kernelspec": {
      "name": "python3",
      "display_name": "Python 3"
    },
    "language_info": {
      "name": "python"
    },
    "gpuClass": "standard",
    "accelerator": "GPU"
  },
  "cells": [
    {
      "cell_type": "markdown",
      "source": [
        "# **Load Dataset**"
      ],
      "metadata": {
        "id": "K7p8Xi_dG4HD"
      }
    },
    {
      "cell_type": "code",
      "source": [
        "import pandas as pd \n",
        "\n",
        "#data_age = pd.read_csv(\"/content/drive/MyDrive/Authorship/age_dataset.csv\", quotechar='|', lineterminator='\\n', low_memory=False)\n",
        "data_gender = pd.read_csv(\"/content/drive/MyDrive/Authorship/genders_dataset_mini.csv\", quotechar='|', lineterminator='\\n', low_memory=False)\n",
        "#data_politics = pd.read_csv(\"/content/drive/MyDrive/Authorship/politics_dataset.csv\", quotechar='|', lineterminator='\\n', low_memory=False)"
      ],
      "metadata": {
        "id": "CtmfQWKDkNbM"
      },
      "execution_count": 2,
      "outputs": []
    },
    {
      "cell_type": "code",
      "source": [
        "data_gender"
      ],
      "metadata": {
        "colab": {
          "base_uri": "https://localhost:8080/",
          "height": 468
        },
        "id": "pPpesgqOmjiU",
        "outputId": "b7771458-15cb-403f-a689-cdd31d8949d4"
      },
      "execution_count": 3,
      "outputs": [
        {
          "output_type": "execute_result",
          "data": {
            "text/plain": [
              "              username              user_id             tweet_id  \\\n",
              "0       kingslayers666   902646857872093184  1414633104615038978   \n",
              "1       kingslayers666   902646857872093184  1414603564731801605   \n",
              "2       kingslayers666   902646857872093184  1414590963905871875   \n",
              "3       kingslayers666   902646857872093184  1414589241607303181   \n",
              "4       kingslayers666   902646857872093184  1413930112601542657   \n",
              "...                ...                  ...                  ...   \n",
              "183705       anonchaan  1165541512953786368  1389756743119298562   \n",
              "183706       anonchaan  1165541512953786368  1389756153903521794   \n",
              "183707       anonchaan  1165541512953786368  1389756048563576839   \n",
              "183708       anonchaan  1165541512953786368  1389755915398574082   \n",
              "183709       anonchaan  1165541512953786368  1389755083181551618   \n",
              "\n",
              "                                                    tweet gender  \n",
              "0                   @JoeyGhost i did only change 1 letter   male  \n",
              "1       it started out with a piss how did it end up l...   male  \n",
              "2       not ro trying to get his dad to sing egirls ar...   male  \n",
              "3        hashinshins a nonce? who would of thought it bro   male  \n",
              "4                                          @togathighs me   male  \n",
              "...                                                   ...    ...  \n",
              "183705  @TrashyDoodler yeah 😍 but then again they'll p...  other  \n",
              "183706  @boozab99 they're minecraft kids 😍 what do the...  other  \n",
              "183707  @hanakoesque YEAH AND PLUS THEY'LL ADD 70+ TWS...  other  \n",
              "183708  @TrashyDoodler theyre bascially ruining the ga...  other  \n",
              "183709  @Shockgalialost theyre gonna make a whole ass ...  other  \n",
              "\n",
              "[183710 rows x 5 columns]"
            ],
            "text/html": [
              "\n",
              "  <div id=\"df-a0cf0d91-110f-4590-b374-89311d2e823d\">\n",
              "    <div class=\"colab-df-container\">\n",
              "      <div>\n",
              "<style scoped>\n",
              "    .dataframe tbody tr th:only-of-type {\n",
              "        vertical-align: middle;\n",
              "    }\n",
              "\n",
              "    .dataframe tbody tr th {\n",
              "        vertical-align: top;\n",
              "    }\n",
              "\n",
              "    .dataframe thead th {\n",
              "        text-align: right;\n",
              "    }\n",
              "</style>\n",
              "<table border=\"1\" class=\"dataframe\">\n",
              "  <thead>\n",
              "    <tr style=\"text-align: right;\">\n",
              "      <th></th>\n",
              "      <th>username</th>\n",
              "      <th>user_id</th>\n",
              "      <th>tweet_id</th>\n",
              "      <th>tweet</th>\n",
              "      <th>gender</th>\n",
              "    </tr>\n",
              "  </thead>\n",
              "  <tbody>\n",
              "    <tr>\n",
              "      <th>0</th>\n",
              "      <td>kingslayers666</td>\n",
              "      <td>902646857872093184</td>\n",
              "      <td>1414633104615038978</td>\n",
              "      <td>@JoeyGhost i did only change 1 letter</td>\n",
              "      <td>male</td>\n",
              "    </tr>\n",
              "    <tr>\n",
              "      <th>1</th>\n",
              "      <td>kingslayers666</td>\n",
              "      <td>902646857872093184</td>\n",
              "      <td>1414603564731801605</td>\n",
              "      <td>it started out with a piss how did it end up l...</td>\n",
              "      <td>male</td>\n",
              "    </tr>\n",
              "    <tr>\n",
              "      <th>2</th>\n",
              "      <td>kingslayers666</td>\n",
              "      <td>902646857872093184</td>\n",
              "      <td>1414590963905871875</td>\n",
              "      <td>not ro trying to get his dad to sing egirls ar...</td>\n",
              "      <td>male</td>\n",
              "    </tr>\n",
              "    <tr>\n",
              "      <th>3</th>\n",
              "      <td>kingslayers666</td>\n",
              "      <td>902646857872093184</td>\n",
              "      <td>1414589241607303181</td>\n",
              "      <td>hashinshins a nonce? who would of thought it bro</td>\n",
              "      <td>male</td>\n",
              "    </tr>\n",
              "    <tr>\n",
              "      <th>4</th>\n",
              "      <td>kingslayers666</td>\n",
              "      <td>902646857872093184</td>\n",
              "      <td>1413930112601542657</td>\n",
              "      <td>@togathighs me</td>\n",
              "      <td>male</td>\n",
              "    </tr>\n",
              "    <tr>\n",
              "      <th>...</th>\n",
              "      <td>...</td>\n",
              "      <td>...</td>\n",
              "      <td>...</td>\n",
              "      <td>...</td>\n",
              "      <td>...</td>\n",
              "    </tr>\n",
              "    <tr>\n",
              "      <th>183705</th>\n",
              "      <td>anonchaan</td>\n",
              "      <td>1165541512953786368</td>\n",
              "      <td>1389756743119298562</td>\n",
              "      <td>@TrashyDoodler yeah 😍 but then again they'll p...</td>\n",
              "      <td>other</td>\n",
              "    </tr>\n",
              "    <tr>\n",
              "      <th>183706</th>\n",
              "      <td>anonchaan</td>\n",
              "      <td>1165541512953786368</td>\n",
              "      <td>1389756153903521794</td>\n",
              "      <td>@boozab99 they're minecraft kids 😍 what do the...</td>\n",
              "      <td>other</td>\n",
              "    </tr>\n",
              "    <tr>\n",
              "      <th>183707</th>\n",
              "      <td>anonchaan</td>\n",
              "      <td>1165541512953786368</td>\n",
              "      <td>1389756048563576839</td>\n",
              "      <td>@hanakoesque YEAH AND PLUS THEY'LL ADD 70+ TWS...</td>\n",
              "      <td>other</td>\n",
              "    </tr>\n",
              "    <tr>\n",
              "      <th>183708</th>\n",
              "      <td>anonchaan</td>\n",
              "      <td>1165541512953786368</td>\n",
              "      <td>1389755915398574082</td>\n",
              "      <td>@TrashyDoodler theyre bascially ruining the ga...</td>\n",
              "      <td>other</td>\n",
              "    </tr>\n",
              "    <tr>\n",
              "      <th>183709</th>\n",
              "      <td>anonchaan</td>\n",
              "      <td>1165541512953786368</td>\n",
              "      <td>1389755083181551618</td>\n",
              "      <td>@Shockgalialost theyre gonna make a whole ass ...</td>\n",
              "      <td>other</td>\n",
              "    </tr>\n",
              "  </tbody>\n",
              "</table>\n",
              "<p>183710 rows × 5 columns</p>\n",
              "</div>\n",
              "      <button class=\"colab-df-convert\" onclick=\"convertToInteractive('df-a0cf0d91-110f-4590-b374-89311d2e823d')\"\n",
              "              title=\"Convert this dataframe to an interactive table.\"\n",
              "              style=\"display:none;\">\n",
              "        \n",
              "  <svg xmlns=\"http://www.w3.org/2000/svg\" height=\"24px\"viewBox=\"0 0 24 24\"\n",
              "       width=\"24px\">\n",
              "    <path d=\"M0 0h24v24H0V0z\" fill=\"none\"/>\n",
              "    <path d=\"M18.56 5.44l.94 2.06.94-2.06 2.06-.94-2.06-.94-.94-2.06-.94 2.06-2.06.94zm-11 1L8.5 8.5l.94-2.06 2.06-.94-2.06-.94L8.5 2.5l-.94 2.06-2.06.94zm10 10l.94 2.06.94-2.06 2.06-.94-2.06-.94-.94-2.06-.94 2.06-2.06.94z\"/><path d=\"M17.41 7.96l-1.37-1.37c-.4-.4-.92-.59-1.43-.59-.52 0-1.04.2-1.43.59L10.3 9.45l-7.72 7.72c-.78.78-.78 2.05 0 2.83L4 21.41c.39.39.9.59 1.41.59.51 0 1.02-.2 1.41-.59l7.78-7.78 2.81-2.81c.8-.78.8-2.07 0-2.86zM5.41 20L4 18.59l7.72-7.72 1.47 1.35L5.41 20z\"/>\n",
              "  </svg>\n",
              "      </button>\n",
              "      \n",
              "  <style>\n",
              "    .colab-df-container {\n",
              "      display:flex;\n",
              "      flex-wrap:wrap;\n",
              "      gap: 12px;\n",
              "    }\n",
              "\n",
              "    .colab-df-convert {\n",
              "      background-color: #E8F0FE;\n",
              "      border: none;\n",
              "      border-radius: 50%;\n",
              "      cursor: pointer;\n",
              "      display: none;\n",
              "      fill: #1967D2;\n",
              "      height: 32px;\n",
              "      padding: 0 0 0 0;\n",
              "      width: 32px;\n",
              "    }\n",
              "\n",
              "    .colab-df-convert:hover {\n",
              "      background-color: #E2EBFA;\n",
              "      box-shadow: 0px 1px 2px rgba(60, 64, 67, 0.3), 0px 1px 3px 1px rgba(60, 64, 67, 0.15);\n",
              "      fill: #174EA6;\n",
              "    }\n",
              "\n",
              "    [theme=dark] .colab-df-convert {\n",
              "      background-color: #3B4455;\n",
              "      fill: #D2E3FC;\n",
              "    }\n",
              "\n",
              "    [theme=dark] .colab-df-convert:hover {\n",
              "      background-color: #434B5C;\n",
              "      box-shadow: 0px 1px 3px 1px rgba(0, 0, 0, 0.15);\n",
              "      filter: drop-shadow(0px 1px 2px rgba(0, 0, 0, 0.3));\n",
              "      fill: #FFFFFF;\n",
              "    }\n",
              "  </style>\n",
              "\n",
              "      <script>\n",
              "        const buttonEl =\n",
              "          document.querySelector('#df-a0cf0d91-110f-4590-b374-89311d2e823d button.colab-df-convert');\n",
              "        buttonEl.style.display =\n",
              "          google.colab.kernel.accessAllowed ? 'block' : 'none';\n",
              "\n",
              "        async function convertToInteractive(key) {\n",
              "          const element = document.querySelector('#df-a0cf0d91-110f-4590-b374-89311d2e823d');\n",
              "          const dataTable =\n",
              "            await google.colab.kernel.invokeFunction('convertToInteractive',\n",
              "                                                     [key], {});\n",
              "          if (!dataTable) return;\n",
              "\n",
              "          const docLinkHtml = 'Like what you see? Visit the ' +\n",
              "            '<a target=\"_blank\" href=https://colab.research.google.com/notebooks/data_table.ipynb>data table notebook</a>'\n",
              "            + ' to learn more about interactive tables.';\n",
              "          element.innerHTML = '';\n",
              "          dataTable['output_type'] = 'display_data';\n",
              "          await google.colab.output.renderOutput(dataTable, element);\n",
              "          const docLink = document.createElement('div');\n",
              "          docLink.innerHTML = docLinkHtml;\n",
              "          element.appendChild(docLink);\n",
              "        }\n",
              "      </script>\n",
              "    </div>\n",
              "  </div>\n",
              "  "
            ]
          },
          "metadata": {},
          "execution_count": 3
        }
      ]
    },
    {
      "cell_type": "code",
      "source": [
        "df = data_gender\n",
        "df.dropna(axis=0, inplace=True)\n",
        "df['tweet_str'] = df['tweet'].astype(str)\n",
        "#df['political_stance_str'] = df['political_stance'].astype(str)\n",
        "#df['political_stance_str'] = df['political_stance_str'].str.strip()\n",
        "\n",
        "df"
      ],
      "metadata": {
        "colab": {
          "base_uri": "https://localhost:8080/",
          "height": 641
        },
        "id": "dAtmr66UkPaJ",
        "outputId": "05ee6a6a-212a-4d64-87c9-b9dad0c4d861"
      },
      "execution_count": 4,
      "outputs": [
        {
          "output_type": "execute_result",
          "data": {
            "text/plain": [
              "              username              user_id             tweet_id  \\\n",
              "0       kingslayers666   902646857872093184  1414633104615038978   \n",
              "1       kingslayers666   902646857872093184  1414603564731801605   \n",
              "2       kingslayers666   902646857872093184  1414590963905871875   \n",
              "3       kingslayers666   902646857872093184  1414589241607303181   \n",
              "4       kingslayers666   902646857872093184  1413930112601542657   \n",
              "...                ...                  ...                  ...   \n",
              "183705       anonchaan  1165541512953786368  1389756743119298562   \n",
              "183706       anonchaan  1165541512953786368  1389756153903521794   \n",
              "183707       anonchaan  1165541512953786368  1389756048563576839   \n",
              "183708       anonchaan  1165541512953786368  1389755915398574082   \n",
              "183709       anonchaan  1165541512953786368  1389755083181551618   \n",
              "\n",
              "                                                    tweet gender  \\\n",
              "0                   @JoeyGhost i did only change 1 letter   male   \n",
              "1       it started out with a piss how did it end up l...   male   \n",
              "2       not ro trying to get his dad to sing egirls ar...   male   \n",
              "3        hashinshins a nonce? who would of thought it bro   male   \n",
              "4                                          @togathighs me   male   \n",
              "...                                                   ...    ...   \n",
              "183705  @TrashyDoodler yeah 😍 but then again they'll p...  other   \n",
              "183706  @boozab99 they're minecraft kids 😍 what do the...  other   \n",
              "183707  @hanakoesque YEAH AND PLUS THEY'LL ADD 70+ TWS...  other   \n",
              "183708  @TrashyDoodler theyre bascially ruining the ga...  other   \n",
              "183709  @Shockgalialost theyre gonna make a whole ass ...  other   \n",
              "\n",
              "                                                tweet_str  \n",
              "0                   @JoeyGhost i did only change 1 letter  \n",
              "1       it started out with a piss how did it end up l...  \n",
              "2       not ro trying to get his dad to sing egirls ar...  \n",
              "3        hashinshins a nonce? who would of thought it bro  \n",
              "4                                          @togathighs me  \n",
              "...                                                   ...  \n",
              "183705  @TrashyDoodler yeah 😍 but then again they'll p...  \n",
              "183706  @boozab99 they're minecraft kids 😍 what do the...  \n",
              "183707  @hanakoesque YEAH AND PLUS THEY'LL ADD 70+ TWS...  \n",
              "183708  @TrashyDoodler theyre bascially ruining the ga...  \n",
              "183709  @Shockgalialost theyre gonna make a whole ass ...  \n",
              "\n",
              "[183710 rows x 6 columns]"
            ],
            "text/html": [
              "\n",
              "  <div id=\"df-248587c6-5330-46d6-8dfb-da0ef541b580\">\n",
              "    <div class=\"colab-df-container\">\n",
              "      <div>\n",
              "<style scoped>\n",
              "    .dataframe tbody tr th:only-of-type {\n",
              "        vertical-align: middle;\n",
              "    }\n",
              "\n",
              "    .dataframe tbody tr th {\n",
              "        vertical-align: top;\n",
              "    }\n",
              "\n",
              "    .dataframe thead th {\n",
              "        text-align: right;\n",
              "    }\n",
              "</style>\n",
              "<table border=\"1\" class=\"dataframe\">\n",
              "  <thead>\n",
              "    <tr style=\"text-align: right;\">\n",
              "      <th></th>\n",
              "      <th>username</th>\n",
              "      <th>user_id</th>\n",
              "      <th>tweet_id</th>\n",
              "      <th>tweet</th>\n",
              "      <th>gender</th>\n",
              "      <th>tweet_str</th>\n",
              "    </tr>\n",
              "  </thead>\n",
              "  <tbody>\n",
              "    <tr>\n",
              "      <th>0</th>\n",
              "      <td>kingslayers666</td>\n",
              "      <td>902646857872093184</td>\n",
              "      <td>1414633104615038978</td>\n",
              "      <td>@JoeyGhost i did only change 1 letter</td>\n",
              "      <td>male</td>\n",
              "      <td>@JoeyGhost i did only change 1 letter</td>\n",
              "    </tr>\n",
              "    <tr>\n",
              "      <th>1</th>\n",
              "      <td>kingslayers666</td>\n",
              "      <td>902646857872093184</td>\n",
              "      <td>1414603564731801605</td>\n",
              "      <td>it started out with a piss how did it end up l...</td>\n",
              "      <td>male</td>\n",
              "      <td>it started out with a piss how did it end up l...</td>\n",
              "    </tr>\n",
              "    <tr>\n",
              "      <th>2</th>\n",
              "      <td>kingslayers666</td>\n",
              "      <td>902646857872093184</td>\n",
              "      <td>1414590963905871875</td>\n",
              "      <td>not ro trying to get his dad to sing egirls ar...</td>\n",
              "      <td>male</td>\n",
              "      <td>not ro trying to get his dad to sing egirls ar...</td>\n",
              "    </tr>\n",
              "    <tr>\n",
              "      <th>3</th>\n",
              "      <td>kingslayers666</td>\n",
              "      <td>902646857872093184</td>\n",
              "      <td>1414589241607303181</td>\n",
              "      <td>hashinshins a nonce? who would of thought it bro</td>\n",
              "      <td>male</td>\n",
              "      <td>hashinshins a nonce? who would of thought it bro</td>\n",
              "    </tr>\n",
              "    <tr>\n",
              "      <th>4</th>\n",
              "      <td>kingslayers666</td>\n",
              "      <td>902646857872093184</td>\n",
              "      <td>1413930112601542657</td>\n",
              "      <td>@togathighs me</td>\n",
              "      <td>male</td>\n",
              "      <td>@togathighs me</td>\n",
              "    </tr>\n",
              "    <tr>\n",
              "      <th>...</th>\n",
              "      <td>...</td>\n",
              "      <td>...</td>\n",
              "      <td>...</td>\n",
              "      <td>...</td>\n",
              "      <td>...</td>\n",
              "      <td>...</td>\n",
              "    </tr>\n",
              "    <tr>\n",
              "      <th>183705</th>\n",
              "      <td>anonchaan</td>\n",
              "      <td>1165541512953786368</td>\n",
              "      <td>1389756743119298562</td>\n",
              "      <td>@TrashyDoodler yeah 😍 but then again they'll p...</td>\n",
              "      <td>other</td>\n",
              "      <td>@TrashyDoodler yeah 😍 but then again they'll p...</td>\n",
              "    </tr>\n",
              "    <tr>\n",
              "      <th>183706</th>\n",
              "      <td>anonchaan</td>\n",
              "      <td>1165541512953786368</td>\n",
              "      <td>1389756153903521794</td>\n",
              "      <td>@boozab99 they're minecraft kids 😍 what do the...</td>\n",
              "      <td>other</td>\n",
              "      <td>@boozab99 they're minecraft kids 😍 what do the...</td>\n",
              "    </tr>\n",
              "    <tr>\n",
              "      <th>183707</th>\n",
              "      <td>anonchaan</td>\n",
              "      <td>1165541512953786368</td>\n",
              "      <td>1389756048563576839</td>\n",
              "      <td>@hanakoesque YEAH AND PLUS THEY'LL ADD 70+ TWS...</td>\n",
              "      <td>other</td>\n",
              "      <td>@hanakoesque YEAH AND PLUS THEY'LL ADD 70+ TWS...</td>\n",
              "    </tr>\n",
              "    <tr>\n",
              "      <th>183708</th>\n",
              "      <td>anonchaan</td>\n",
              "      <td>1165541512953786368</td>\n",
              "      <td>1389755915398574082</td>\n",
              "      <td>@TrashyDoodler theyre bascially ruining the ga...</td>\n",
              "      <td>other</td>\n",
              "      <td>@TrashyDoodler theyre bascially ruining the ga...</td>\n",
              "    </tr>\n",
              "    <tr>\n",
              "      <th>183709</th>\n",
              "      <td>anonchaan</td>\n",
              "      <td>1165541512953786368</td>\n",
              "      <td>1389755083181551618</td>\n",
              "      <td>@Shockgalialost theyre gonna make a whole ass ...</td>\n",
              "      <td>other</td>\n",
              "      <td>@Shockgalialost theyre gonna make a whole ass ...</td>\n",
              "    </tr>\n",
              "  </tbody>\n",
              "</table>\n",
              "<p>183710 rows × 6 columns</p>\n",
              "</div>\n",
              "      <button class=\"colab-df-convert\" onclick=\"convertToInteractive('df-248587c6-5330-46d6-8dfb-da0ef541b580')\"\n",
              "              title=\"Convert this dataframe to an interactive table.\"\n",
              "              style=\"display:none;\">\n",
              "        \n",
              "  <svg xmlns=\"http://www.w3.org/2000/svg\" height=\"24px\"viewBox=\"0 0 24 24\"\n",
              "       width=\"24px\">\n",
              "    <path d=\"M0 0h24v24H0V0z\" fill=\"none\"/>\n",
              "    <path d=\"M18.56 5.44l.94 2.06.94-2.06 2.06-.94-2.06-.94-.94-2.06-.94 2.06-2.06.94zm-11 1L8.5 8.5l.94-2.06 2.06-.94-2.06-.94L8.5 2.5l-.94 2.06-2.06.94zm10 10l.94 2.06.94-2.06 2.06-.94-2.06-.94-.94-2.06-.94 2.06-2.06.94z\"/><path d=\"M17.41 7.96l-1.37-1.37c-.4-.4-.92-.59-1.43-.59-.52 0-1.04.2-1.43.59L10.3 9.45l-7.72 7.72c-.78.78-.78 2.05 0 2.83L4 21.41c.39.39.9.59 1.41.59.51 0 1.02-.2 1.41-.59l7.78-7.78 2.81-2.81c.8-.78.8-2.07 0-2.86zM5.41 20L4 18.59l7.72-7.72 1.47 1.35L5.41 20z\"/>\n",
              "  </svg>\n",
              "      </button>\n",
              "      \n",
              "  <style>\n",
              "    .colab-df-container {\n",
              "      display:flex;\n",
              "      flex-wrap:wrap;\n",
              "      gap: 12px;\n",
              "    }\n",
              "\n",
              "    .colab-df-convert {\n",
              "      background-color: #E8F0FE;\n",
              "      border: none;\n",
              "      border-radius: 50%;\n",
              "      cursor: pointer;\n",
              "      display: none;\n",
              "      fill: #1967D2;\n",
              "      height: 32px;\n",
              "      padding: 0 0 0 0;\n",
              "      width: 32px;\n",
              "    }\n",
              "\n",
              "    .colab-df-convert:hover {\n",
              "      background-color: #E2EBFA;\n",
              "      box-shadow: 0px 1px 2px rgba(60, 64, 67, 0.3), 0px 1px 3px 1px rgba(60, 64, 67, 0.15);\n",
              "      fill: #174EA6;\n",
              "    }\n",
              "\n",
              "    [theme=dark] .colab-df-convert {\n",
              "      background-color: #3B4455;\n",
              "      fill: #D2E3FC;\n",
              "    }\n",
              "\n",
              "    [theme=dark] .colab-df-convert:hover {\n",
              "      background-color: #434B5C;\n",
              "      box-shadow: 0px 1px 3px 1px rgba(0, 0, 0, 0.15);\n",
              "      filter: drop-shadow(0px 1px 2px rgba(0, 0, 0, 0.3));\n",
              "      fill: #FFFFFF;\n",
              "    }\n",
              "  </style>\n",
              "\n",
              "      <script>\n",
              "        const buttonEl =\n",
              "          document.querySelector('#df-248587c6-5330-46d6-8dfb-da0ef541b580 button.colab-df-convert');\n",
              "        buttonEl.style.display =\n",
              "          google.colab.kernel.accessAllowed ? 'block' : 'none';\n",
              "\n",
              "        async function convertToInteractive(key) {\n",
              "          const element = document.querySelector('#df-248587c6-5330-46d6-8dfb-da0ef541b580');\n",
              "          const dataTable =\n",
              "            await google.colab.kernel.invokeFunction('convertToInteractive',\n",
              "                                                     [key], {});\n",
              "          if (!dataTable) return;\n",
              "\n",
              "          const docLinkHtml = 'Like what you see? Visit the ' +\n",
              "            '<a target=\"_blank\" href=https://colab.research.google.com/notebooks/data_table.ipynb>data table notebook</a>'\n",
              "            + ' to learn more about interactive tables.';\n",
              "          element.innerHTML = '';\n",
              "          dataTable['output_type'] = 'display_data';\n",
              "          await google.colab.output.renderOutput(dataTable, element);\n",
              "          const docLink = document.createElement('div');\n",
              "          docLink.innerHTML = docLinkHtml;\n",
              "          element.appendChild(docLink);\n",
              "        }\n",
              "      </script>\n",
              "    </div>\n",
              "  </div>\n",
              "  "
            ]
          },
          "metadata": {},
          "execution_count": 4
        }
      ]
    },
    {
      "cell_type": "code",
      "source": [
        "df = df[df['gender'].isin(['male', 'female'])]\n",
        "df[\"gender\"].hist()"
      ],
      "metadata": {
        "colab": {
          "base_uri": "https://localhost:8080/",
          "height": 448
        },
        "id": "pOEvsVAVl5-o",
        "outputId": "240def5b-3f17-4e12-967c-a1c6322dca10"
      },
      "execution_count": 5,
      "outputs": [
        {
          "output_type": "execute_result",
          "data": {
            "text/plain": [
              "<Axes: >"
            ]
          },
          "metadata": {},
          "execution_count": 5
        },
        {
          "output_type": "display_data",
          "data": {
            "text/plain": [
              "<Figure size 640x480 with 1 Axes>"
            ],
            "image/png": "[encoded data removed]"
          },
          "metadata": {}
        }
      ]
    },
    {
      "cell_type": "code",
      "source": [
        "df"
      ],
      "metadata": {
        "colab": {
          "base_uri": "https://localhost:8080/",
          "height": 798
        },
        "id": "YU0yDmc7Gfs4",
        "outputId": "5b5e19c9-3f7b-4d32-c007-e1516a91934f"
      },
      "execution_count": 35,
      "outputs": [
        {
          "output_type": "execute_result",
          "data": {
            "text/plain": [
              "               username             user_id             tweet_id  \\\n",
              "0        kingslayers666  902646857872093184  1414633104615038978   \n",
              "1        kingslayers666  902646857872093184  1414603564731801605   \n",
              "2        kingslayers666  902646857872093184  1414590963905871875   \n",
              "3        kingslayers666  902646857872093184  1414589241607303181   \n",
              "4        kingslayers666  902646857872093184  1413930112601542657   \n",
              "...                 ...                 ...                  ...   \n",
              "152597  killmewithrocks           789949646  1354154182182383618   \n",
              "152598  killmewithrocks           789949646  1354152856656482304   \n",
              "152599  killmewithrocks           789949646  1354141899880337412   \n",
              "152600  killmewithrocks           789949646  1354080037633478663   \n",
              "152601  killmewithrocks           789949646  1353818492609421312   \n",
              "\n",
              "                                                    tweet  gender  \\\n",
              "0                   @JoeyGhost i did only change 1 letter    male   \n",
              "1       it started out with a piss how did it end up l...    male   \n",
              "2       not ro trying to get his dad to sing egirls ar...    male   \n",
              "3        hashinshins a nonce? who would of thought it bro    male   \n",
              "4                                          @togathighs me    male   \n",
              "...                                                   ...     ...   \n",
              "152597  i just wanna flood every thread about this top...  female   \n",
              "152598  i’m fucking begging you guys to stop telling B...  female   \n",
              "152599  @Lo_mpt @tsarzano @_ugco all of these tattoos ...  female   \n",
              "152600  why would they make cruella deville look so co...  female   \n",
              "152601  men rly are going through a painful time where...  female   \n",
              "\n",
              "                                                tweet_str  gender_bi check  \n",
              "0                                           change letter          0    []  \n",
              "1                         started piss end like piss piss          0    []  \n",
              "2              ro trying get dad sing egirls ruining life          0    []  \n",
              "3                     hashinshins nonce would thought bro          0    []  \n",
              "4                                                                  0    []  \n",
              "...                                                   ...        ...   ...  \n",
              "152597  want flood every thread topic freshhealed side...          1    []  \n",
              "152598  fucking begging guys stop telling black people...          1    []  \n",
              "152599  tattoos brand new photo replying probably year...          1    []  \n",
              "152600  would make cruella deville look cool wants mur...          1    []  \n",
              "152601  men really going painful time nobody clue man ...          1    []  \n",
              "\n",
              "[152602 rows x 8 columns]"
            ],
            "text/html": [
              "\n",
              "  <div id=\"df-53d0d62b-3c2a-4865-9a37-56023136221b\">\n",
              "    <div class=\"colab-df-container\">\n",
              "      <div>\n",
              "<style scoped>\n",
              "    .dataframe tbody tr th:only-of-type {\n",
              "        vertical-align: middle;\n",
              "    }\n",
              "\n",
              "    .dataframe tbody tr th {\n",
              "        vertical-align: top;\n",
              "    }\n",
              "\n",
              "    .dataframe thead th {\n",
              "        text-align: right;\n",
              "    }\n",
              "</style>\n",
              "<table border=\"1\" class=\"dataframe\">\n",
              "  <thead>\n",
              "    <tr style=\"text-align: right;\">\n",
              "      <th></th>\n",
              "      <th>username</th>\n",
              "      <th>user_id</th>\n",
              "      <th>tweet_id</th>\n",
              "      <th>tweet</th>\n",
              "      <th>gender</th>\n",
              "      <th>tweet_str</th>\n",
              "      <th>gender_bi</th>\n",
              "      <th>check</th>\n",
              "    </tr>\n",
              "  </thead>\n",
              "  <tbody>\n",
              "    <tr>\n",
              "      <th>0</th>\n",
              "      <td>kingslayers666</td>\n",
              "      <td>902646857872093184</td>\n",
              "      <td>1414633104615038978</td>\n",
              "      <td>@JoeyGhost i did only change 1 letter</td>\n",
              "      <td>male</td>\n",
              "      <td>change letter</td>\n",
              "      <td>0</td>\n",
              "      <td>[]</td>\n",
              "    </tr>\n",
              "    <tr>\n",
              "      <th>1</th>\n",
              "      <td>kingslayers666</td>\n",
              "      <td>902646857872093184</td>\n",
              "      <td>1414603564731801605</td>\n",
              "      <td>it started out with a piss how did it end up l...</td>\n",
              "      <td>male</td>\n",
              "      <td>started piss end like piss piss</td>\n",
              "      <td>0</td>\n",
              "      <td>[]</td>\n",
              "    </tr>\n",
              "    <tr>\n",
              "      <th>2</th>\n",
              "      <td>kingslayers666</td>\n",
              "      <td>902646857872093184</td>\n",
              "      <td>1414590963905871875</td>\n",
              "      <td>not ro trying to get his dad to sing egirls ar...</td>\n",
              "      <td>male</td>\n",
              "      <td>ro trying get dad sing egirls ruining life</td>\n",
              "      <td>0</td>\n",
              "      <td>[]</td>\n",
              "    </tr>\n",
              "    <tr>\n",
              "      <th>3</th>\n",
              "      <td>kingslayers666</td>\n",
              "      <td>902646857872093184</td>\n",
              "      <td>1414589241607303181</td>\n",
              "      <td>hashinshins a nonce? who would of thought it bro</td>\n",
              "      <td>male</td>\n",
              "      <td>hashinshins nonce would thought bro</td>\n",
              "      <td>0</td>\n",
              "      <td>[]</td>\n",
              "    </tr>\n",
              "    <tr>\n",
              "      <th>4</th>\n",
              "      <td>kingslayers666</td>\n",
              "      <td>902646857872093184</td>\n",
              "      <td>1413930112601542657</td>\n",
              "      <td>@togathighs me</td>\n",
              "      <td>male</td>\n",
              "      <td></td>\n",
              "      <td>0</td>\n",
              "      <td>[]</td>\n",
              "    </tr>\n",
              "    <tr>\n",
              "      <th>...</th>\n",
              "      <td>...</td>\n",
              "      <td>...</td>\n",
              "      <td>...</td>\n",
              "      <td>...</td>\n",
              "      <td>...</td>\n",
              "      <td>...</td>\n",
              "      <td>...</td>\n",
              "      <td>...</td>\n",
              "    </tr>\n",
              "    <tr>\n",
              "      <th>152597</th>\n",
              "      <td>killmewithrocks</td>\n",
              "      <td>789949646</td>\n",
              "      <td>1354154182182383618</td>\n",
              "      <td>i just wanna flood every thread about this top...</td>\n",
              "      <td>female</td>\n",
              "      <td>want flood every thread topic freshhealed side...</td>\n",
              "      <td>1</td>\n",
              "      <td>[]</td>\n",
              "    </tr>\n",
              "    <tr>\n",
              "      <th>152598</th>\n",
              "      <td>killmewithrocks</td>\n",
              "      <td>789949646</td>\n",
              "      <td>1354152856656482304</td>\n",
              "      <td>i’m fucking begging you guys to stop telling B...</td>\n",
              "      <td>female</td>\n",
              "      <td>fucking begging guys stop telling black people...</td>\n",
              "      <td>1</td>\n",
              "      <td>[]</td>\n",
              "    </tr>\n",
              "    <tr>\n",
              "      <th>152599</th>\n",
              "      <td>killmewithrocks</td>\n",
              "      <td>789949646</td>\n",
              "      <td>1354141899880337412</td>\n",
              "      <td>@Lo_mpt @tsarzano @_ugco all of these tattoos ...</td>\n",
              "      <td>female</td>\n",
              "      <td>tattoos brand new photo replying probably year...</td>\n",
              "      <td>1</td>\n",
              "      <td>[]</td>\n",
              "    </tr>\n",
              "    <tr>\n",
              "      <th>152600</th>\n",
              "      <td>killmewithrocks</td>\n",
              "      <td>789949646</td>\n",
              "      <td>1354080037633478663</td>\n",
              "      <td>why would they make cruella deville look so co...</td>\n",
              "      <td>female</td>\n",
              "      <td>would make cruella deville look cool wants mur...</td>\n",
              "      <td>1</td>\n",
              "      <td>[]</td>\n",
              "    </tr>\n",
              "    <tr>\n",
              "      <th>152601</th>\n",
              "      <td>killmewithrocks</td>\n",
              "      <td>789949646</td>\n",
              "      <td>1353818492609421312</td>\n",
              "      <td>men rly are going through a painful time where...</td>\n",
              "      <td>female</td>\n",
              "      <td>men really going painful time nobody clue man ...</td>\n",
              "      <td>1</td>\n",
              "      <td>[]</td>\n",
              "    </tr>\n",
              "  </tbody>\n",
              "</table>\n",
              "<p>152602 rows × 8 columns</p>\n",
              "</div>\n",
              "      <button class=\"colab-df-convert\" onclick=\"convertToInteractive('df-53d0d62b-3c2a-4865-9a37-56023136221b')\"\n",
              "              title=\"Convert this dataframe to an interactive table.\"\n",
              "              style=\"display:none;\">\n",
              "        \n",
              "  <svg xmlns=\"http://www.w3.org/2000/svg\" height=\"24px\"viewBox=\"0 0 24 24\"\n",
              "       width=\"24px\">\n",
              "    <path d=\"M0 0h24v24H0V0z\" fill=\"none\"/>\n",
              "    <path d=\"M18.56 5.44l.94 2.06.94-2.06 2.06-.94-2.06-.94-.94-2.06-.94 2.06-2.06.94zm-11 1L8.5 8.5l.94-2.06 2.06-.94-2.06-.94L8.5 2.5l-.94 2.06-2.06.94zm10 10l.94 2.06.94-2.06 2.06-.94-2.06-.94-.94-2.06-.94 2.06-2.06.94z\"/><path d=\"M17.41 7.96l-1.37-1.37c-.4-.4-.92-.59-1.43-.59-.52 0-1.04.2-1.43.59L10.3 9.45l-7.72 7.72c-.78.78-.78 2.05 0 2.83L4 21.41c.39.39.9.59 1.41.59.51 0 1.02-.2 1.41-.59l7.78-7.78 2.81-2.81c.8-.78.8-2.07 0-2.86zM5.41 20L4 18.59l7.72-7.72 1.47 1.35L5.41 20z\"/>\n",
              "  </svg>\n",
              "      </button>\n",
              "      \n",
              "  <style>\n",
              "    .colab-df-container {\n",
              "      display:flex;\n",
              "      flex-wrap:wrap;\n",
              "      gap: 12px;\n",
              "    }\n",
              "\n",
              "    .colab-df-convert {\n",
              "      background-color: #E8F0FE;\n",
              "      border: none;\n",
              "      border-radius: 50%;\n",
              "      cursor: pointer;\n",
              "      display: none;\n",
              "      fill: #1967D2;\n",
              "      height: 32px;\n",
              "      padding: 0 0 0 0;\n",
              "      width: 32px;\n",
              "    }\n",
              "\n",
              "    .colab-df-convert:hover {\n",
              "      background-color: #E2EBFA;\n",
              "      box-shadow: 0px 1px 2px rgba(60, 64, 67, 0.3), 0px 1px 3px 1px rgba(60, 64, 67, 0.15);\n",
              "      fill: #174EA6;\n",
              "    }\n",
              "\n",
              "    [theme=dark] .colab-df-convert {\n",
              "      background-color: #3B4455;\n",
              "      fill: #D2E3FC;\n",
              "    }\n",
              "\n",
              "    [theme=dark] .colab-df-convert:hover {\n",
              "      background-color: #434B5C;\n",
              "      box-shadow: 0px 1px 3px 1px rgba(0, 0, 0, 0.15);\n",
              "      filter: drop-shadow(0px 1px 2px rgba(0, 0, 0, 0.3));\n",
              "      fill: #FFFFFF;\n",
              "    }\n",
              "  </style>\n",
              "\n",
              "      <script>\n",
              "        const buttonEl =\n",
              "          document.querySelector('#df-53d0d62b-3c2a-4865-9a37-56023136221b button.colab-df-convert');\n",
              "        buttonEl.style.display =\n",
              "          google.colab.kernel.accessAllowed ? 'block' : 'none';\n",
              "\n",
              "        async function convertToInteractive(key) {\n",
              "          const element = document.querySelector('#df-53d0d62b-3c2a-4865-9a37-56023136221b');\n",
              "          const dataTable =\n",
              "            await google.colab.kernel.invokeFunction('convertToInteractive',\n",
              "                                                     [key], {});\n",
              "          if (!dataTable) return;\n",
              "\n",
              "          const docLinkHtml = 'Like what you see? Visit the ' +\n",
              "            '<a target=\"_blank\" href=https://colab.research.google.com/notebooks/data_table.ipynb>data table notebook</a>'\n",
              "            + ' to learn more about interactive tables.';\n",
              "          element.innerHTML = '';\n",
              "          dataTable['output_type'] = 'display_data';\n",
              "          await google.colab.output.renderOutput(dataTable, element);\n",
              "          const docLink = document.createElement('div');\n",
              "          docLink.innerHTML = docLinkHtml;\n",
              "          element.appendChild(docLink);\n",
              "        }\n",
              "      </script>\n",
              "    </div>\n",
              "  </div>\n",
              "  "
            ]
          },
          "metadata": {},
          "execution_count": 35
        }
      ]
    },
    {
      "cell_type": "code",
      "source": [
        "df['gender_bi'] = df['gender'].replace({'male': 0, 'female': 1})\n",
        "df[\"gender_bi\"].hist()"
      ],
      "metadata": {
        "colab": {
          "base_uri": "https://localhost:8080/",
          "height": 575
        },
        "id": "_0nC3ymxAZR9",
        "outputId": "0ec3598e-53f5-46b1-8aa7-75bbd632d652"
      },
      "execution_count": 6,
      "outputs": [
        {
          "output_type": "stream",
          "name": "stderr",
          "text": [
            "<ipython-input-6-75b05e063b3a>:1: SettingWithCopyWarning: \n",
            "A value is trying to be set on a copy of a slice from a DataFrame.\n",
            "Try using .loc[row_indexer,col_indexer] = value instead\n",
            "\n",
            "See the caveats in the documentation: https://pandas.pydata.org/pandas-docs/stable/user_guide/indexing.html#returning-a-view-versus-a-copy\n",
            "  df['gender_bi'] = df['gender'].replace({'male': 0, 'female': 1})\n"
          ]
        },
        {
          "output_type": "execute_result",
          "data": {
            "text/plain": [
              "<Axes: >"
            ]
          },
          "metadata": {},
          "execution_count": 6
        },
        {
          "output_type": "display_data",
          "data": {
            "text/plain": [
              "<Figure size 640x480 with 1 Axes>"
            ],
            "image/png": "[encoded data removed]"
          },
          "metadata": {}
        }
      ]
    },
    {
      "cell_type": "code",
      "source": [
        "print(type(df['tweet_str']))\n",
        "\n",
        "for x in df['tweet_str'][:4]:\n",
        "  print(type(x))"
      ],
      "metadata": {
        "colab": {
          "base_uri": "https://localhost:8080/"
        },
        "id": "E6S6pYYmnVdZ",
        "outputId": "8b01e308-122d-4de9-d2b4-7e4467115346"
      },
      "execution_count": 7,
      "outputs": [
        {
          "output_type": "stream",
          "name": "stdout",
          "text": [
            "<class 'pandas.core.series.Series'>\n",
            "<class 'str'>\n",
            "<class 'str'>\n",
            "<class 'str'>\n",
            "<class 'str'>\n"
          ]
        }
      ]
    },
    {
      "cell_type": "markdown",
      "source": [
        "# **Data Preprocessing**"
      ],
      "metadata": {
        "id": "L9GdIQvGHFln"
      }
    },
    {
      "cell_type": "code",
      "source": [
        "# Remove URLs and HTML links\n",
        "\n",
        "import re\n",
        "def check_urls(text):\n",
        "    return re.findall(r'https?://\\S+|www\\.\\S+',text)\n",
        "\n",
        "def remove_urls(text):\n",
        "    url_remove = re.compile(r'https?://\\S+|www\\.\\S+')\n",
        "    return re.sub(r'https?://\\S+|www\\.\\S+','',text)\n",
        "\n",
        "df['check']=df['tweet_str'].apply(lambda x:check_urls(x))\n",
        "print(\"-----check-----\")\n",
        "for x in df['check'][:4]:\n",
        "  print(x) \n",
        "\n",
        "df['tweet_str']=df['tweet_str'].apply(lambda x:remove_urls(x))\n",
        "print(\"\\n-----result-----\")\n",
        "for x in df['tweet_str'][:4]:\n",
        "  print(\"*** \"+x)"
      ],
      "metadata": {
        "colab": {
          "base_uri": "https://localhost:8080/"
        },
        "id": "dgFtLN6zlZFm",
        "outputId": "0c88c1dc-8159-4795-9611-6279857ed1bd"
      },
      "execution_count": 8,
      "outputs": [
        {
          "output_type": "stream",
          "name": "stderr",
          "text": [
            "<ipython-input-8-0890f8c45256>:11: SettingWithCopyWarning: \n",
            "A value is trying to be set on a copy of a slice from a DataFrame.\n",
            "Try using .loc[row_indexer,col_indexer] = value instead\n",
            "\n",
            "See the caveats in the documentation: https://pandas.pydata.org/pandas-docs/stable/user_guide/indexing.html#returning-a-view-versus-a-copy\n",
            "  df['check']=df['tweet_str'].apply(lambda x:check_urls(x))\n"
          ]
        },
        {
          "output_type": "stream",
          "name": "stdout",
          "text": [
            "-----check-----\n",
            "[]\n",
            "[]\n",
            "[]\n",
            "[]\n",
            "\n",
            "-----result-----\n",
            "*** @JoeyGhost i did only change 1 letter\n",
            "*** it started out with a piss how did it end up like this (it was only a piss, it was only a piss)\n",
            "*** not ro trying to get his dad to sing egirls are ruining my life\n",
            "*** hashinshins a nonce? who would of thought it bro\n"
          ]
        },
        {
          "output_type": "stream",
          "name": "stderr",
          "text": [
            "<ipython-input-8-0890f8c45256>:16: SettingWithCopyWarning: \n",
            "A value is trying to be set on a copy of a slice from a DataFrame.\n",
            "Try using .loc[row_indexer,col_indexer] = value instead\n",
            "\n",
            "See the caveats in the documentation: https://pandas.pydata.org/pandas-docs/stable/user_guide/indexing.html#returning-a-view-versus-a-copy\n",
            "  df['tweet_str']=df['tweet_str'].apply(lambda x:remove_urls(x))\n"
          ]
        }
      ]
    },
    {
      "cell_type": "code",
      "source": [
        "# Remove mention\n",
        "import re\n",
        "def check_mention(x):\n",
        "    return re.findall(r'@\\w+',x)\n",
        "def remove_mention(x):\n",
        "    return re.sub(r'@\\w+','',x)\n",
        "\n",
        "df['check']=df['tweet_str'].apply(lambda x:check_mention(x))\n",
        "print(\"-----check-----\")\n",
        "for x in df['check'][:4]:\n",
        "  print(x) \n",
        "\n",
        "df['tweet_str']=df['tweet_str'].apply(lambda x:remove_mention(x))\n",
        "print(\"\\n-----result-----\")\n",
        "for x in df['tweet_str'][:4]:\n",
        "  print(\"*** \"+x) "
      ],
      "metadata": {
        "colab": {
          "base_uri": "https://localhost:8080/"
        },
        "id": "DqCVT9IwB2Qu",
        "outputId": "ee2bf842-4541-4d06-f56b-31044b496f0f"
      },
      "execution_count": 9,
      "outputs": [
        {
          "output_type": "stream",
          "name": "stderr",
          "text": [
            "<ipython-input-9-58932ff769c0>:8: SettingWithCopyWarning: \n",
            "A value is trying to be set on a copy of a slice from a DataFrame.\n",
            "Try using .loc[row_indexer,col_indexer] = value instead\n",
            "\n",
            "See the caveats in the documentation: https://pandas.pydata.org/pandas-docs/stable/user_guide/indexing.html#returning-a-view-versus-a-copy\n",
            "  df['check']=df['tweet_str'].apply(lambda x:check_mention(x))\n"
          ]
        },
        {
          "output_type": "stream",
          "name": "stdout",
          "text": [
            "-----check-----\n",
            "['@JoeyGhost']\n",
            "[]\n",
            "[]\n",
            "[]\n",
            "\n",
            "-----result-----\n",
            "***  i did only change 1 letter\n",
            "*** it started out with a piss how did it end up like this (it was only a piss, it was only a piss)\n",
            "*** not ro trying to get his dad to sing egirls are ruining my life\n",
            "*** hashinshins a nonce? who would of thought it bro\n"
          ]
        },
        {
          "output_type": "stream",
          "name": "stderr",
          "text": [
            "<ipython-input-9-58932ff769c0>:13: SettingWithCopyWarning: \n",
            "A value is trying to be set on a copy of a slice from a DataFrame.\n",
            "Try using .loc[row_indexer,col_indexer] = value instead\n",
            "\n",
            "See the caveats in the documentation: https://pandas.pydata.org/pandas-docs/stable/user_guide/indexing.html#returning-a-view-versus-a-copy\n",
            "  df['tweet_str']=df['tweet_str'].apply(lambda x:remove_mention(x))\n"
          ]
        }
      ]
    },
    {
      "cell_type": "code",
      "source": [
        "#Remove numbers\n",
        "\n",
        "def check_num(text):\n",
        "    return re.findall(r'\\d+',text)\n",
        "def remove_num(text):\n",
        "    return re.sub(r'\\d+','',text)\n",
        "    \n",
        "df['check']=df['tweet_str'].apply(lambda x:check_num(x))\n",
        "print(\"-----check-----\")\n",
        "[print(x) for x in df['check'][:4]]\n",
        "\n",
        "df['tweet_str']=df['tweet_str'].apply(lambda x:remove_num(x))\n",
        "print(\"\\n-----result-----\")\n",
        "[print(\"*** \"+x) for x in df['tweet_str'][:4]]"
      ],
      "metadata": {
        "colab": {
          "base_uri": "https://localhost:8080/"
        },
        "id": "KUPyU4FIxPxW",
        "outputId": "df3d0200-ecd5-4e86-bd18-c0421350dcfa"
      },
      "execution_count": 10,
      "outputs": [
        {
          "output_type": "stream",
          "name": "stderr",
          "text": [
            "<ipython-input-10-c0bd47affe62>:8: SettingWithCopyWarning: \n",
            "A value is trying to be set on a copy of a slice from a DataFrame.\n",
            "Try using .loc[row_indexer,col_indexer] = value instead\n",
            "\n",
            "See the caveats in the documentation: https://pandas.pydata.org/pandas-docs/stable/user_guide/indexing.html#returning-a-view-versus-a-copy\n",
            "  df['check']=df['tweet_str'].apply(lambda x:check_num(x))\n"
          ]
        },
        {
          "output_type": "stream",
          "name": "stdout",
          "text": [
            "-----check-----\n",
            "['1']\n",
            "[]\n",
            "[]\n",
            "[]\n",
            "\n",
            "-----result-----\n",
            "***  i did only change  letter\n",
            "*** it started out with a piss how did it end up like this (it was only a piss, it was only a piss)\n",
            "*** not ro trying to get his dad to sing egirls are ruining my life\n",
            "*** hashinshins a nonce? who would of thought it bro\n"
          ]
        },
        {
          "output_type": "stream",
          "name": "stderr",
          "text": [
            "<ipython-input-10-c0bd47affe62>:12: SettingWithCopyWarning: \n",
            "A value is trying to be set on a copy of a slice from a DataFrame.\n",
            "Try using .loc[row_indexer,col_indexer] = value instead\n",
            "\n",
            "See the caveats in the documentation: https://pandas.pydata.org/pandas-docs/stable/user_guide/indexing.html#returning-a-view-versus-a-copy\n",
            "  df['tweet_str']=df['tweet_str'].apply(lambda x:remove_num(x))\n"
          ]
        },
        {
          "output_type": "execute_result",
          "data": {
            "text/plain": [
              "[None, None, None, None]"
            ]
          },
          "metadata": {},
          "execution_count": 10
        }
      ]
    },
    {
      "cell_type": "code",
      "source": [
        "# Remove hashtags\n",
        "\n",
        "def check_hash(text):\n",
        "    return re.findall(r'#\\w+',text)\n",
        "def remove_hash(text):\n",
        "    return re.sub(r'#\\w+','',text)\n",
        "\n",
        "df['check']=df['tweet_str'].apply(lambda x:check_hash(x))\n",
        "print(\"-----check-----\")\n",
        "[print(x) for x in df['check'][:4]]\n",
        "\n",
        "df['tweet_str']=df['tweet_str'].apply(lambda x:remove_hash(x))\n",
        "print(\"\\n-----result-----\")\n",
        "[print(\"*** \"+x) for x in df['tweet_str'][:4]]"
      ],
      "metadata": {
        "colab": {
          "base_uri": "https://localhost:8080/"
        },
        "id": "PNx3ryB9x18s",
        "outputId": "357200da-cd6f-4add-83c4-69edc40d9ed5"
      },
      "execution_count": 11,
      "outputs": [
        {
          "output_type": "stream",
          "name": "stderr",
          "text": [
            "<ipython-input-11-55a733d367f6>:8: SettingWithCopyWarning: \n",
            "A value is trying to be set on a copy of a slice from a DataFrame.\n",
            "Try using .loc[row_indexer,col_indexer] = value instead\n",
            "\n",
            "See the caveats in the documentation: https://pandas.pydata.org/pandas-docs/stable/user_guide/indexing.html#returning-a-view-versus-a-copy\n",
            "  df['check']=df['tweet_str'].apply(lambda x:check_hash(x))\n"
          ]
        },
        {
          "output_type": "stream",
          "name": "stdout",
          "text": [
            "-----check-----\n",
            "[]\n",
            "[]\n",
            "[]\n",
            "[]\n",
            "\n",
            "-----result-----\n",
            "***  i did only change  letter\n",
            "*** it started out with a piss how did it end up like this (it was only a piss, it was only a piss)\n",
            "*** not ro trying to get his dad to sing egirls are ruining my life\n",
            "*** hashinshins a nonce? who would of thought it bro\n"
          ]
        },
        {
          "output_type": "stream",
          "name": "stderr",
          "text": [
            "<ipython-input-11-55a733d367f6>:12: SettingWithCopyWarning: \n",
            "A value is trying to be set on a copy of a slice from a DataFrame.\n",
            "Try using .loc[row_indexer,col_indexer] = value instead\n",
            "\n",
            "See the caveats in the documentation: https://pandas.pydata.org/pandas-docs/stable/user_guide/indexing.html#returning-a-view-versus-a-copy\n",
            "  df['tweet_str']=df['tweet_str'].apply(lambda x:remove_hash(x))\n"
          ]
        },
        {
          "output_type": "execute_result",
          "data": {
            "text/plain": [
              "[None, None, None, None]"
            ]
          },
          "metadata": {},
          "execution_count": 11
        }
      ]
    },
    {
      "cell_type": "code",
      "source": [
        "# Remove punctuation\n",
        "\n",
        "def check_punct(text):\n",
        "    return re.findall(r'[^\\w\\s\\d]',text)\n",
        "def remove_punct(text):\n",
        "    return re.sub(r\"[^\\w\\s\\d]\",\"\", text)\n",
        "\n",
        "df['check']=df['tweet_str'].apply(lambda x:check_punct(x))\n",
        "print(\"-----check-----\")\n",
        "[print(x) for x in df['tweet_str'][:4]]\n",
        "\n",
        "df['tweet_str']=df['tweet_str'].apply(lambda x:remove_punct(x))\n",
        "print(\"\\n-----result-----\")\n",
        "[print(\"*** \"+x) for x in df['tweet_str'][:4]]"
      ],
      "metadata": {
        "colab": {
          "base_uri": "https://localhost:8080/"
        },
        "id": "sl2TIRTj63S5",
        "outputId": "4746bed2-23da-46db-e072-0698c7505106"
      },
      "execution_count": 12,
      "outputs": [
        {
          "output_type": "stream",
          "name": "stderr",
          "text": [
            "<ipython-input-12-559b038ad935>:8: SettingWithCopyWarning: \n",
            "A value is trying to be set on a copy of a slice from a DataFrame.\n",
            "Try using .loc[row_indexer,col_indexer] = value instead\n",
            "\n",
            "See the caveats in the documentation: https://pandas.pydata.org/pandas-docs/stable/user_guide/indexing.html#returning-a-view-versus-a-copy\n",
            "  df['check']=df['tweet_str'].apply(lambda x:check_punct(x))\n"
          ]
        },
        {
          "output_type": "stream",
          "name": "stdout",
          "text": [
            "-----check-----\n",
            " i did only change  letter\n",
            "it started out with a piss how did it end up like this (it was only a piss, it was only a piss)\n",
            "not ro trying to get his dad to sing egirls are ruining my life\n",
            "hashinshins a nonce? who would of thought it bro\n",
            "\n",
            "-----result-----\n",
            "***  i did only change  letter\n",
            "*** it started out with a piss how did it end up like this it was only a piss it was only a piss\n",
            "*** not ro trying to get his dad to sing egirls are ruining my life\n",
            "*** hashinshins a nonce who would of thought it bro\n"
          ]
        },
        {
          "output_type": "stream",
          "name": "stderr",
          "text": [
            "<ipython-input-12-559b038ad935>:12: SettingWithCopyWarning: \n",
            "A value is trying to be set on a copy of a slice from a DataFrame.\n",
            "Try using .loc[row_indexer,col_indexer] = value instead\n",
            "\n",
            "See the caveats in the documentation: https://pandas.pydata.org/pandas-docs/stable/user_guide/indexing.html#returning-a-view-versus-a-copy\n",
            "  df['tweet_str']=df['tweet_str'].apply(lambda x:remove_punct(x))\n"
          ]
        },
        {
          "output_type": "execute_result",
          "data": {
            "text/plain": [
              "[None, None, None, None]"
            ]
          },
          "metadata": {},
          "execution_count": 12
        }
      ]
    },
    {
      "cell_type": "code",
      "source": [
        "def check_emoji(text):\n",
        "    emoji_pattern = re.compile(\"[\"\n",
        "                           u\"\\U0001F600-\\U0001F64F\" # emoticons\n",
        "                           u\"\\U0001F300-\\U0001F5FF\" # symbols & pictographs\n",
        "                           u\"\\U0001F680-\\U0001F6FF\" # transport & map symbols\n",
        "                           u\"\\U0001F1E0-\\U0001F1FF\" # flags (iOS)\n",
        "                           u\"\\U00002702-\\U000027B0\"\n",
        "                           u\"\\U000024C2-\\U0001F251\"\n",
        "                           \"]+\", flags=re.UNICODE)\n",
        "    return re.findall(emoji_pattern, text)\n",
        "\n",
        "df['check']=df['tweet_str'].apply(lambda x:check_emoji(x))\n",
        "print(\"-----check-----\")\n",
        "[print(x) for x in df['check'][:4]]"
      ],
      "metadata": {
        "colab": {
          "base_uri": "https://localhost:8080/"
        },
        "id": "qSn46wMwyfxO",
        "outputId": "e4a3e4e7-f5b8-45ce-85b6-099938272045"
      },
      "execution_count": 13,
      "outputs": [
        {
          "output_type": "stream",
          "name": "stdout",
          "text": [
            "-----check-----\n",
            "[]\n",
            "[]\n",
            "[]\n",
            "[]\n"
          ]
        },
        {
          "output_type": "stream",
          "name": "stderr",
          "text": [
            "<ipython-input-13-feb80b65e726>:12: SettingWithCopyWarning: \n",
            "A value is trying to be set on a copy of a slice from a DataFrame.\n",
            "Try using .loc[row_indexer,col_indexer] = value instead\n",
            "\n",
            "See the caveats in the documentation: https://pandas.pydata.org/pandas-docs/stable/user_guide/indexing.html#returning-a-view-versus-a-copy\n",
            "  df['check']=df['tweet_str'].apply(lambda x:check_emoji(x))\n"
          ]
        },
        {
          "output_type": "execute_result",
          "data": {
            "text/plain": [
              "[None, None, None, None]"
            ]
          },
          "metadata": {},
          "execution_count": 13
        }
      ]
    },
    {
      "cell_type": "code",
      "source": [
        "#Remove Emoji and Emotions\n",
        "\n",
        "def remove_emoji(text):\n",
        "    emoji_pattern = re.compile(\"[\"\n",
        "                           u\"\\U0001F600-\\U0001F64F\" # emoticons\n",
        "                           u\"\\U0001F300-\\U0001F5FF\" # symbols & pictographs\n",
        "                           u\"\\U0001F680-\\U0001F6FF\" # transport & map symbols\n",
        "                           u\"\\U0001F1E0-\\U0001F1FF\" # flags (iOS)\n",
        "                           u\"\\U00002702-\\U000027B0\"\n",
        "                           u\"\\U000024C2-\\U0001F251\"\n",
        "                           \"]+\", flags=re.UNICODE)\n",
        "    return emoji_pattern.sub(r'', text)\n",
        "\n",
        "df['tweet_str']=df['tweet_str'].apply(lambda x: remove_emoji(x))\n",
        "\n",
        "print(\"\\n-----result-----\")\n",
        "[print(\"*** \"+x) for x in df['tweet_str'][:4]]"
      ],
      "metadata": {
        "colab": {
          "base_uri": "https://localhost:8080/"
        },
        "id": "6DMwsfB1GU3y",
        "outputId": "910163de-d748-419c-f7b1-58a1d9d4e76d"
      },
      "execution_count": 14,
      "outputs": [
        {
          "output_type": "stream",
          "name": "stdout",
          "text": [
            "\n",
            "-----result-----\n",
            "***  i did only change  letter\n",
            "*** it started out with a piss how did it end up like this it was only a piss it was only a piss\n",
            "*** not ro trying to get his dad to sing egirls are ruining my life\n",
            "*** hashinshins a nonce who would of thought it bro\n"
          ]
        },
        {
          "output_type": "stream",
          "name": "stderr",
          "text": [
            "<ipython-input-14-71baaa2dada5>:14: SettingWithCopyWarning: \n",
            "A value is trying to be set on a copy of a slice from a DataFrame.\n",
            "Try using .loc[row_indexer,col_indexer] = value instead\n",
            "\n",
            "See the caveats in the documentation: https://pandas.pydata.org/pandas-docs/stable/user_guide/indexing.html#returning-a-view-versus-a-copy\n",
            "  df['tweet_str']=df['tweet_str'].apply(lambda x: remove_emoji(x))\n"
          ]
        },
        {
          "output_type": "execute_result",
          "data": {
            "text/plain": [
              "[None, None, None, None]"
            ]
          },
          "metadata": {},
          "execution_count": 14
        }
      ]
    },
    {
      "cell_type": "code",
      "source": [
        "import unicodedata\n",
        "def remove_accent(text):\n",
        "    try:\n",
        "        text = unicode(text, 'utf-8')\n",
        "    except NameError:\n",
        "        pass\n",
        "    text = unicodedata.normalize('NFD', text).encode('ascii', 'ignore').decode(\"utf-8\")\n",
        "    return str(text)\n",
        "df['tweet_str']=df['tweet_str'].apply(lambda x: remove_accent(x))"
      ],
      "metadata": {
        "id": "Pa-yblO3GVjj",
        "colab": {
          "base_uri": "https://localhost:8080/"
        },
        "outputId": "616787b8-270f-45bf-f1ec-d7d8ba67c30c"
      },
      "execution_count": 15,
      "outputs": [
        {
          "output_type": "stream",
          "name": "stderr",
          "text": [
            "<ipython-input-15-4fa7121866f5>:9: SettingWithCopyWarning: \n",
            "A value is trying to be set on a copy of a slice from a DataFrame.\n",
            "Try using .loc[row_indexer,col_indexer] = value instead\n",
            "\n",
            "See the caveats in the documentation: https://pandas.pydata.org/pandas-docs/stable/user_guide/indexing.html#returning-a-view-versus-a-copy\n",
            "  df['tweet_str']=df['tweet_str'].apply(lambda x: remove_accent(x))\n"
          ]
        }
      ]
    },
    {
      "cell_type": "code",
      "source": [
        "!pip install contractions\n",
        "import contractions\n",
        "\n",
        "df['tweet_str']=df['tweet_str'].apply(lambda x: contractions.fix(x))"
      ],
      "metadata": {
        "colab": {
          "base_uri": "https://localhost:8080/"
        },
        "id": "mSUvGmCDCH6c",
        "outputId": "7ce087a6-00ea-4079-d7bc-b9ad61335278"
      },
      "execution_count": 16,
      "outputs": [
        {
          "output_type": "stream",
          "name": "stdout",
          "text": [
            "Looking in indexes: https://pypi.org/simple, https://us-python.pkg.dev/colab-wheels/public/simple/\n",
            "Collecting contractions\n",
            "  Downloading contractions-0.1.73-py2.py3-none-any.whl (8.7 kB)\n",
            "Collecting textsearch>=0.0.21\n",
            "  Downloading textsearch-0.0.24-py2.py3-none-any.whl (7.6 kB)\n",
            "Collecting pyahocorasick\n",
            "  Downloading pyahocorasick-2.0.0-cp39-cp39-manylinux_2_5_x86_64.manylinux1_x86_64.whl (103 kB)\n",
            "\u001b[2K     \u001b[90m━━━━━━━━━━━━━━━━━━━━━━━━━━━━━━━━━━━━━━━\u001b[0m \u001b[32m103.2/103.2 kB\u001b[0m \u001b[31m4.8 MB/s\u001b[0m eta \u001b[36m0:00:00\u001b[0m\n",
            "\u001b[?25hCollecting anyascii\n",
            "  Downloading anyascii-0.3.2-py3-none-any.whl (289 kB)\n",
            "\u001b[2K     \u001b[90m━━━━━━━━━━━━━━━━━━━━━━━━━━━━━━━━━━━━━━\u001b[0m \u001b[32m289.9/289.9 kB\u001b[0m \u001b[31m14.1 MB/s\u001b[0m eta \u001b[36m0:00:00\u001b[0m\n",
            "\u001b[?25hInstalling collected packages: pyahocorasick, anyascii, textsearch, contractions\n",
            "Successfully installed anyascii-0.3.2 contractions-0.1.73 pyahocorasick-2.0.0 textsearch-0.0.24\n"
          ]
        },
        {
          "output_type": "stream",
          "name": "stderr",
          "text": [
            "<ipython-input-16-f9bfa8738352>:4: SettingWithCopyWarning: \n",
            "A value is trying to be set on a copy of a slice from a DataFrame.\n",
            "Try using .loc[row_indexer,col_indexer] = value instead\n",
            "\n",
            "See the caveats in the documentation: https://pandas.pydata.org/pandas-docs/stable/user_guide/indexing.html#returning-a-view-versus-a-copy\n",
            "  df['tweet_str']=df['tweet_str'].apply(lambda x: contractions.fix(x))\n"
          ]
        }
      ]
    },
    {
      "cell_type": "code",
      "source": [
        "# Remove stopwords\n",
        "import nltk\n",
        "nltk.download('stopwords')\n",
        "from nltk.corpus import stopwords\n",
        "\", \".join(stopwords.words('english'))\n",
        "STOPWORDS = set(stopwords.words('english'))"
      ],
      "metadata": {
        "colab": {
          "base_uri": "https://localhost:8080/"
        },
        "id": "wNqf44P2DsVu",
        "outputId": "05254ad8-f9a0-484e-e4e5-3e11667ce351"
      },
      "execution_count": 17,
      "outputs": [
        {
          "output_type": "stream",
          "name": "stderr",
          "text": [
            "[nltk_data] Downloading package stopwords to /root/nltk_data...\n",
            "[nltk_data]   Unzipping corpora/stopwords.zip.\n"
          ]
        }
      ]
    },
    {
      "cell_type": "code",
      "source": [
        "# Remove stopwords\n",
        "def remove_stopwords(text):\n",
        "    \"\"\"custom function to remove the stopwords\"\"\"\n",
        "    return \" \".join([word for word in str(text).split() if word not in STOPWORDS])\n",
        "df['tweet_str']=df['tweet_str'].apply(lambda x:remove_stopwords(x))\n",
        "print(\"\\n-----result-----\")\n",
        "[print(\"*** \"+x) for x in df['tweet_str'][:4]]"
      ],
      "metadata": {
        "colab": {
          "base_uri": "https://localhost:8080/"
        },
        "id": "ZrY5Vcl8EVLA",
        "outputId": "562f667a-4059-4ca8-9e6d-56f8038428aa"
      },
      "execution_count": 18,
      "outputs": [
        {
          "output_type": "stream",
          "name": "stdout",
          "text": [
            "\n",
            "-----result-----\n",
            "*** change letter\n",
            "*** started piss end like piss piss\n",
            "*** ro trying get dad sing egirls ruining life\n",
            "*** hashinshins nonce would thought bro\n"
          ]
        },
        {
          "output_type": "stream",
          "name": "stderr",
          "text": [
            "<ipython-input-18-4d558266e61c>:5: SettingWithCopyWarning: \n",
            "A value is trying to be set on a copy of a slice from a DataFrame.\n",
            "Try using .loc[row_indexer,col_indexer] = value instead\n",
            "\n",
            "See the caveats in the documentation: https://pandas.pydata.org/pandas-docs/stable/user_guide/indexing.html#returning-a-view-versus-a-copy\n",
            "  df['tweet_str']=df['tweet_str'].apply(lambda x:remove_stopwords(x))\n"
          ]
        },
        {
          "output_type": "execute_result",
          "data": {
            "text/plain": [
              "[None, None, None, None]"
            ]
          },
          "metadata": {},
          "execution_count": 18
        }
      ]
    },
    {
      "cell_type": "code",
      "source": [
        "# Change to lower case\n",
        "df['tweet_str']=df['tweet_str'].apply(lambda x: x.lower())\n",
        "[print(\"*** \"+x) for x in df['tweet_str'][:4]]"
      ],
      "metadata": {
        "colab": {
          "base_uri": "https://localhost:8080/"
        },
        "id": "WArdOxyIErnK",
        "outputId": "515737b2-ff4e-4ac0-a634-b3cf6722b57f"
      },
      "execution_count": 19,
      "outputs": [
        {
          "output_type": "stream",
          "name": "stdout",
          "text": [
            "*** change letter\n",
            "*** started piss end like piss piss\n",
            "*** ro trying get dad sing egirls ruining life\n",
            "*** hashinshins nonce would thought bro\n"
          ]
        },
        {
          "output_type": "stream",
          "name": "stderr",
          "text": [
            "<ipython-input-19-8b7ffa374a68>:2: SettingWithCopyWarning: \n",
            "A value is trying to be set on a copy of a slice from a DataFrame.\n",
            "Try using .loc[row_indexer,col_indexer] = value instead\n",
            "\n",
            "See the caveats in the documentation: https://pandas.pydata.org/pandas-docs/stable/user_guide/indexing.html#returning-a-view-versus-a-copy\n",
            "  df['tweet_str']=df['tweet_str'].apply(lambda x: x.lower())\n"
          ]
        },
        {
          "output_type": "execute_result",
          "data": {
            "text/plain": [
              "[None, None, None, None]"
            ]
          },
          "metadata": {},
          "execution_count": 19
        }
      ]
    },
    {
      "cell_type": "code",
      "source": [
        "# Remove extra white space left\n",
        "def remove_space(text):\n",
        "    return re.sub(r\"\\s+\",\" \",text).strip()\n",
        "df['tweet_str']=df['tweet_str'].apply(lambda x:remove_space(x))\n",
        "print(\"\\n-----result-----\")\n",
        "[print(\"*** \"+x) for x in df['tweet_str'][:4]]"
      ],
      "metadata": {
        "colab": {
          "base_uri": "https://localhost:8080/"
        },
        "id": "U0xTcaFfE5yb",
        "outputId": "a2df8c4a-aa8e-456c-b126-ff3ee2c2ecd9"
      },
      "execution_count": 20,
      "outputs": [
        {
          "output_type": "stream",
          "name": "stdout",
          "text": [
            "\n",
            "-----result-----\n",
            "*** change letter\n",
            "*** started piss end like piss piss\n",
            "*** ro trying get dad sing egirls ruining life\n",
            "*** hashinshins nonce would thought bro\n"
          ]
        },
        {
          "output_type": "stream",
          "name": "stderr",
          "text": [
            "<ipython-input-20-7a85a1785b09>:4: SettingWithCopyWarning: \n",
            "A value is trying to be set on a copy of a slice from a DataFrame.\n",
            "Try using .loc[row_indexer,col_indexer] = value instead\n",
            "\n",
            "See the caveats in the documentation: https://pandas.pydata.org/pandas-docs/stable/user_guide/indexing.html#returning-a-view-versus-a-copy\n",
            "  df['tweet_str']=df['tweet_str'].apply(lambda x:remove_space(x))\n"
          ]
        },
        {
          "output_type": "execute_result",
          "data": {
            "text/plain": [
              "[None, None, None, None]"
            ]
          },
          "metadata": {},
          "execution_count": 20
        }
      ]
    },
    {
      "cell_type": "code",
      "source": [
        "#corpus = df['tweet_str']\n",
        "#corpus"
      ],
      "metadata": {
        "id": "Zsm1x16LtyL-"
      },
      "execution_count": 25,
      "outputs": []
    },
    {
      "cell_type": "code",
      "source": [
        "new_df = df.groupby('user_id').agg({'tweet_str' : ' '.join, 'gender_bi': 'first'})"
      ],
      "metadata": {
        "id": "lu_WrUdXx5oZ"
      },
      "execution_count": 21,
      "outputs": []
    },
    {
      "cell_type": "code",
      "source": [
        "new_df"
      ],
      "metadata": {
        "colab": {
          "base_uri": "https://localhost:8080/",
          "height": 455
        },
        "id": "hwlbG6jtvmL0",
        "outputId": "9c7098bb-fae0-4248-e855-a39a48a0bed4"
      },
      "execution_count": 22,
      "outputs": [
        {
          "output_type": "execute_result",
          "data": {
            "text/plain": [
              "                                                             tweet_str  \\\n",
              "user_id                                                                  \n",
              "659803               i think i ever noticed big sur icon chess actu...   \n",
              "689253               i know i learned snoods bunheads fully vaxxed ...   \n",
              "5530752              what the fucking fuck i always believe act loc...   \n",
              "8115862              really stellar amount progress made week keepi...   \n",
              "8345082              this book really wonderful using design good b...   \n",
              "...                                                                ...   \n",
              "1409131503485739015  wow i overslept think funny name daegu yet bok...   \n",
              "1409446519678328833  vuelvelo meter te vayas morir te voy hacer brr...   \n",
              "1409474205301706765  wonder get signed pc hahdjfkf doyum come to at...   \n",
              "1409502008793436161  i am sorry think i talk enough i am cuffed als...   \n",
              "1410275969114443783  like tell such nugget turn ugh tragic characte...   \n",
              "\n",
              "                     gender_bi  \n",
              "user_id                         \n",
              "659803                       0  \n",
              "689253                       0  \n",
              "5530752                      1  \n",
              "8115862                      0  \n",
              "8345082                      0  \n",
              "...                        ...  \n",
              "1409131503485739015          0  \n",
              "1409446519678328833          1  \n",
              "1409474205301706765          1  \n",
              "1409502008793436161          0  \n",
              "1410275969114443783          1  \n",
              "\n",
              "[1085 rows x 2 columns]"
            ],
            "text/html": [
              "\n",
              "  <div id=\"df-b5fc8dac-e33d-480a-a182-614f4e8cebff\">\n",
              "    <div class=\"colab-df-container\">\n",
              "      <div>\n",
              "<style scoped>\n",
              "    .dataframe tbody tr th:only-of-type {\n",
              "        vertical-align: middle;\n",
              "    }\n",
              "\n",
              "    .dataframe tbody tr th {\n",
              "        vertical-align: top;\n",
              "    }\n",
              "\n",
              "    .dataframe thead th {\n",
              "        text-align: right;\n",
              "    }\n",
              "</style>\n",
              "<table border=\"1\" class=\"dataframe\">\n",
              "  <thead>\n",
              "    <tr style=\"text-align: right;\">\n",
              "      <th></th>\n",
              "      <th>tweet_str</th>\n",
              "      <th>gender_bi</th>\n",
              "    </tr>\n",
              "    <tr>\n",
              "      <th>user_id</th>\n",
              "      <th></th>\n",
              "      <th></th>\n",
              "    </tr>\n",
              "  </thead>\n",
              "  <tbody>\n",
              "    <tr>\n",
              "      <th>659803</th>\n",
              "      <td>i think i ever noticed big sur icon chess actu...</td>\n",
              "      <td>0</td>\n",
              "    </tr>\n",
              "    <tr>\n",
              "      <th>689253</th>\n",
              "      <td>i know i learned snoods bunheads fully vaxxed ...</td>\n",
              "      <td>0</td>\n",
              "    </tr>\n",
              "    <tr>\n",
              "      <th>5530752</th>\n",
              "      <td>what the fucking fuck i always believe act loc...</td>\n",
              "      <td>1</td>\n",
              "    </tr>\n",
              "    <tr>\n",
              "      <th>8115862</th>\n",
              "      <td>really stellar amount progress made week keepi...</td>\n",
              "      <td>0</td>\n",
              "    </tr>\n",
              "    <tr>\n",
              "      <th>8345082</th>\n",
              "      <td>this book really wonderful using design good b...</td>\n",
              "      <td>0</td>\n",
              "    </tr>\n",
              "    <tr>\n",
              "      <th>...</th>\n",
              "      <td>...</td>\n",
              "      <td>...</td>\n",
              "    </tr>\n",
              "    <tr>\n",
              "      <th>1409131503485739015</th>\n",
              "      <td>wow i overslept think funny name daegu yet bok...</td>\n",
              "      <td>0</td>\n",
              "    </tr>\n",
              "    <tr>\n",
              "      <th>1409446519678328833</th>\n",
              "      <td>vuelvelo meter te vayas morir te voy hacer brr...</td>\n",
              "      <td>1</td>\n",
              "    </tr>\n",
              "    <tr>\n",
              "      <th>1409474205301706765</th>\n",
              "      <td>wonder get signed pc hahdjfkf doyum come to at...</td>\n",
              "      <td>1</td>\n",
              "    </tr>\n",
              "    <tr>\n",
              "      <th>1409502008793436161</th>\n",
              "      <td>i am sorry think i talk enough i am cuffed als...</td>\n",
              "      <td>0</td>\n",
              "    </tr>\n",
              "    <tr>\n",
              "      <th>1410275969114443783</th>\n",
              "      <td>like tell such nugget turn ugh tragic characte...</td>\n",
              "      <td>1</td>\n",
              "    </tr>\n",
              "  </tbody>\n",
              "</table>\n",
              "<p>1085 rows × 2 columns</p>\n",
              "</div>\n",
              "      <button class=\"colab-df-convert\" onclick=\"convertToInteractive('df-b5fc8dac-e33d-480a-a182-614f4e8cebff')\"\n",
              "              title=\"Convert this dataframe to an interactive table.\"\n",
              "              style=\"display:none;\">\n",
              "        \n",
              "  <svg xmlns=\"http://www.w3.org/2000/svg\" height=\"24px\"viewBox=\"0 0 24 24\"\n",
              "       width=\"24px\">\n",
              "    <path d=\"M0 0h24v24H0V0z\" fill=\"none\"/>\n",
              "    <path d=\"M18.56 5.44l.94 2.06.94-2.06 2.06-.94-2.06-.94-.94-2.06-.94 2.06-2.06.94zm-11 1L8.5 8.5l.94-2.06 2.06-.94-2.06-.94L8.5 2.5l-.94 2.06-2.06.94zm10 10l.94 2.06.94-2.06 2.06-.94-2.06-.94-.94-2.06-.94 2.06-2.06.94z\"/><path d=\"M17.41 7.96l-1.37-1.37c-.4-.4-.92-.59-1.43-.59-.52 0-1.04.2-1.43.59L10.3 9.45l-7.72 7.72c-.78.78-.78 2.05 0 2.83L4 21.41c.39.39.9.59 1.41.59.51 0 1.02-.2 1.41-.59l7.78-7.78 2.81-2.81c.8-.78.8-2.07 0-2.86zM5.41 20L4 18.59l7.72-7.72 1.47 1.35L5.41 20z\"/>\n",
              "  </svg>\n",
              "      </button>\n",
              "      \n",
              "  <style>\n",
              "    .colab-df-container {\n",
              "      display:flex;\n",
              "      flex-wrap:wrap;\n",
              "      gap: 12px;\n",
              "    }\n",
              "\n",
              "    .colab-df-convert {\n",
              "      background-color: #E8F0FE;\n",
              "      border: none;\n",
              "      border-radius: 50%;\n",
              "      cursor: pointer;\n",
              "      display: none;\n",
              "      fill: #1967D2;\n",
              "      height: 32px;\n",
              "      padding: 0 0 0 0;\n",
              "      width: 32px;\n",
              "    }\n",
              "\n",
              "    .colab-df-convert:hover {\n",
              "      background-color: #E2EBFA;\n",
              "      box-shadow: 0px 1px 2px rgba(60, 64, 67, 0.3), 0px 1px 3px 1px rgba(60, 64, 67, 0.15);\n",
              "      fill: #174EA6;\n",
              "    }\n",
              "\n",
              "    [theme=dark] .colab-df-convert {\n",
              "      background-color: #3B4455;\n",
              "      fill: #D2E3FC;\n",
              "    }\n",
              "\n",
              "    [theme=dark] .colab-df-convert:hover {\n",
              "      background-color: #434B5C;\n",
              "      box-shadow: 0px 1px 3px 1px rgba(0, 0, 0, 0.15);\n",
              "      filter: drop-shadow(0px 1px 2px rgba(0, 0, 0, 0.3));\n",
              "      fill: #FFFFFF;\n",
              "    }\n",
              "  </style>\n",
              "\n",
              "      <script>\n",
              "        const buttonEl =\n",
              "          document.querySelector('#df-b5fc8dac-e33d-480a-a182-614f4e8cebff button.colab-df-convert');\n",
              "        buttonEl.style.display =\n",
              "          google.colab.kernel.accessAllowed ? 'block' : 'none';\n",
              "\n",
              "        async function convertToInteractive(key) {\n",
              "          const element = document.querySelector('#df-b5fc8dac-e33d-480a-a182-614f4e8cebff');\n",
              "          const dataTable =\n",
              "            await google.colab.kernel.invokeFunction('convertToInteractive',\n",
              "                                                     [key], {});\n",
              "          if (!dataTable) return;\n",
              "\n",
              "          const docLinkHtml = 'Like what you see? Visit the ' +\n",
              "            '<a target=\"_blank\" href=https://colab.research.google.com/notebooks/data_table.ipynb>data table notebook</a>'\n",
              "            + ' to learn more about interactive tables.';\n",
              "          element.innerHTML = '';\n",
              "          dataTable['output_type'] = 'display_data';\n",
              "          await google.colab.output.renderOutput(dataTable, element);\n",
              "          const docLink = document.createElement('div');\n",
              "          docLink.innerHTML = docLinkHtml;\n",
              "          element.appendChild(docLink);\n",
              "        }\n",
              "      </script>\n",
              "    </div>\n",
              "  </div>\n",
              "  "
            ]
          },
          "metadata": {},
          "execution_count": 22
        }
      ]
    },
    {
      "cell_type": "code",
      "source": [
        "corpus_data = new_df[\"tweet_str\"]"
      ],
      "metadata": {
        "id": "ycqfweJVpk_9"
      },
      "execution_count": 23,
      "outputs": []
    },
    {
      "cell_type": "code",
      "source": [
        "#new_df_politics.to_csv(\"/content/drive/MyDrive/Authorship/cleaned_politics.csv\")\n",
        "#new_df_age.to_csv(\"/content/drive/MyDrive/Authorship/cleaned_age.csv\")\n",
        "#new_df_gender.to_csv(\"/content/drive/MyDrive/Authorship/cleaned_gender.csv\")"
      ],
      "metadata": {
        "id": "fEJ13Vi-T7EE"
      },
      "execution_count": null,
      "outputs": []
    },
    {
      "cell_type": "markdown",
      "source": [
        "# **Tokenization and Vocabulary**"
      ],
      "metadata": {
        "id": "WTIKdKaaIFI7"
      }
    },
    {
      "cell_type": "code",
      "source": [
        "#tokenized_corpus\n",
        "def tokenize_corpus(corpus):\n",
        "    tokens = [x.split() for x in corpus]\n",
        "    return tokens\n",
        "\n",
        "tokenized_corpus_politics = tokenize_corpus(corpus_data)\n",
        "#tokenized_corpus_age = tokenize_corpus(corpus_politics)\n",
        "#tokenized_corpus_gender = tokenize_corpus(corpus_politics)\n"
      ],
      "metadata": {
        "id": "5Owl_-vBtjnu"
      },
      "execution_count": null,
      "outputs": []
    },
    {
      "cell_type": "code",
      "source": [
        "# Create vocabulary\n",
        "def create_vocabulary(token_list): \n",
        "  vocabulary = []\n",
        "  for sentence in tokenized_corpus_politics:\n",
        "    for token in sentence:\n",
        "      if token not in vocabulary:\n",
        "        vocabulary.append(token)\n",
        "  \n",
        "  word2idx = {w: idx for (idx, w) in enumerate(vocabulary)}\n",
        "  idx2word = {idx: w for (idx, w) in enumerate(vocabulary)}\n",
        "  return vocabulary, word2idx, idx2word\n"
      ],
      "metadata": {
        "id": "bur-neTSxURJ"
      },
      "execution_count": null,
      "outputs": []
    },
    {
      "cell_type": "code",
      "source": [
        "vocabulary_politics, word2idx_politics, idx2word_politics = create_vocabulary(tokenized_corpus_politics)\n",
        "\n",
        "print(len(vocabulary_politics))\n",
        "\n",
        "#first_two = list(word2idx.items())[:2]\n",
        "#first_two\n",
        "#word2idx"
      ],
      "metadata": {
        "colab": {
          "base_uri": "https://localhost:8080/"
        },
        "id": "D8dW7vL4yR_H",
        "outputId": "c8fa2b47-f718-4bdf-e05a-d068e802a816"
      },
      "execution_count": null,
      "outputs": [
        {
          "output_type": "stream",
          "name": "stdout",
          "text": [
            "95408\n"
          ]
        }
      ]
    },
    {
      "cell_type": "code",
      "source": [
        "#file = open('politics_vocabulary.txt','w')\n",
        "#for i in vocabulary_politics:\n",
        "#\tfile.write(i+\"\\n\")\n",
        "#file.close()"
      ],
      "metadata": {
        "id": "y1bSyqIIVYLR"
      },
      "execution_count": null,
      "outputs": []
    },
    {
      "cell_type": "code",
      "source": [
        "#file = open('age_vocabulary.txt','w')\n",
        "#for i in vocabulary_age:\n",
        "#\tfile.write(i+\"\\n\")\n",
        "#file.close()"
      ],
      "metadata": {
        "id": "ywa0RzRMy-Vz"
      },
      "execution_count": null,
      "outputs": []
    },
    {
      "cell_type": "code",
      "source": [
        "#file = open('gender_vocabulary.txt','w')\n",
        "#for i in vocabulary_gender:\n",
        "#\tfile.write(i+\"\\n\")\n",
        "#file.close()"
      ],
      "metadata": {
        "id": "hxNYLs3cy_Fz"
      },
      "execution_count": null,
      "outputs": []
    },
    {
      "cell_type": "markdown",
      "source": [
        "# **Doc2Vec**"
      ],
      "metadata": {
        "id": "NB0VriovIav5"
      }
    },
    {
      "cell_type": "code",
      "source": [
        "from gensim.models.doc2vec import Doc2Vec, TaggedDocument\n",
        "from nltk.tokenize import word_tokenize\n",
        "import nltk\n",
        "nltk.download('punkt')\n",
        "from sklearn.model_selection import train_test_split\n",
        "from sklearn import utils\n",
        "from tqdm import tqdm\n",
        "from sklearn import utils\n",
        "from sklearn.metrics import accuracy_score, f1_score\n",
        "import matplotlib.pyplot as plt"
      ],
      "metadata": {
        "colab": {
          "base_uri": "https://localhost:8080/"
        },
        "id": "p7Q_6S3GJSV4",
        "outputId": "cc953852-6dcc-4fe7-f13a-42fb2768bd10"
      },
      "execution_count": 24,
      "outputs": [
        {
          "output_type": "stream",
          "name": "stderr",
          "text": [
            "[nltk_data] Downloading package punkt to /root/nltk_data...\n",
            "[nltk_data]   Unzipping tokenizers/punkt.zip.\n"
          ]
        }
      ]
    },
    {
      "cell_type": "code",
      "source": [
        "train, test = train_test_split(new_df, test_size=0.3, random_state=42)"
      ],
      "metadata": {
        "id": "OBeO9WPoVnK9"
      },
      "execution_count": 25,
      "outputs": []
    },
    {
      "cell_type": "code",
      "source": [
        "def tokenize_text(text):\n",
        "  tokens = []\n",
        "  for sent in nltk.sent_tokenize(text):\n",
        "    for word in nltk.word_tokenize(sent):\n",
        "      if len(word) < 2:\n",
        "        continue\n",
        "      tokens.append(word.lower())\n",
        "  return tokens\n",
        "\n",
        "train_tagged = train.apply(\n",
        "    lambda r: TaggedDocument(words=tokenize_text(r['tweet_str']), tags=[r.gender_bi]), axis=1)\n",
        "test_tagged = test.apply(\n",
        "    lambda r: TaggedDocument(words=tokenize_text(r['tweet_str']), tags=[r.gender_bi]), axis=1)"
      ],
      "metadata": {
        "id": "AhcnTR_HdMfK"
      },
      "execution_count": 26,
      "outputs": []
    },
    {
      "cell_type": "code",
      "source": [
        "train_tagged.values[0]"
      ],
      "metadata": {
        "id": "RqK0vQckfArF"
      },
      "execution_count": null,
      "outputs": []
    },
    {
      "cell_type": "code",
      "source": [
        "import multiprocessing\n",
        "cores = multiprocessing.cpu_count()"
      ],
      "metadata": {
        "id": "yBOIxV7mfZla"
      },
      "execution_count": 27,
      "outputs": []
    },
    {
      "cell_type": "code",
      "source": [
        "from tqdm import tqdm\n",
        "model_dbow = Doc2Vec(dm=0, vector_size=400, negative=5, hs=0, min_count=2, sample = 0, workers=cores, window = 8)\n",
        "model_dbow.build_vocab([x for x in tqdm(train_tagged.values)])"
      ],
      "metadata": {
        "colab": {
          "base_uri": "https://localhost:8080/"
        },
        "id": "rjSzVQrifa6S",
        "outputId": "4bd5a314-1831-4d77-d944-4930b15dd081"
      },
      "execution_count": 28,
      "outputs": [
        {
          "output_type": "stream",
          "name": "stderr",
          "text": [
            "100%|██████████| 759/759 [00:00<00:00, 1339283.44it/s]\n"
          ]
        }
      ]
    },
    {
      "cell_type": "code",
      "source": [
        "%%time\n",
        "for epoch in range(5):\n",
        "    model_dbow.train(utils.shuffle([x for x in train_tagged.values]), total_examples=len(train_tagged.values), epochs=1)\n",
        "    model_dbow.alpha -= 0.002\n",
        "    model_dbow.min_alpha = model_dbow.alpha"
      ],
      "metadata": {
        "colab": {
          "base_uri": "https://localhost:8080/"
        },
        "id": "G03B5RVbfgdL",
        "outputId": "7f3321fd-608e-4339-a881-552df4838c79"
      },
      "execution_count": 29,
      "outputs": [
        {
          "output_type": "stream",
          "name": "stderr",
          "text": [
            "WARNING:gensim.models.word2vec:Effective 'alpha' higher than previous training cycles\n"
          ]
        },
        {
          "output_type": "stream",
          "name": "stdout",
          "text": [
            "CPU times: user 13.7 s, sys: 84.3 ms, total: 13.8 s\n",
            "Wall time: 9.99 s\n"
          ]
        }
      ]
    },
    {
      "cell_type": "code",
      "source": [
        "def vec_for_learning(model, tagged_docs):\n",
        "  sents = tagged_docs.values\n",
        "  targets, regressors = zip(*[(doc.tags[0], model.infer_vector(doc.words)) for doc in sents])\n",
        "  return targets, regressors"
      ],
      "metadata": {
        "id": "nXmCHfQTgMGi"
      },
      "execution_count": 30,
      "outputs": []
    },
    {
      "cell_type": "code",
      "source": [
        "# Check the total tokens\n",
        "model_dbow.corpus_total_words"
      ],
      "metadata": {
        "colab": {
          "base_uri": "https://localhost:8080/"
        },
        "id": "-m7m6y8DIeJi",
        "outputId": "da8fc1e6-8f5e-45c3-8ec7-094564ce732e"
      },
      "execution_count": 39,
      "outputs": [
        {
          "output_type": "execute_result",
          "data": {
            "text/plain": [
              "798697"
            ]
          },
          "metadata": {},
          "execution_count": 39
        }
      ]
    },
    {
      "cell_type": "code",
      "source": [
        "from sklearn.linear_model import LogisticRegression\n",
        "y_train, X_train = vec_for_learning(model_dbow, train_tagged)\n",
        "y_test, X_test = vec_for_learning(model_dbow, test_tagged)\n",
        "logreg = LogisticRegression(n_jobs=1, C=1e5)\n",
        "logreg.fit(X_train, y_train)\n",
        "y_pred = logreg.predict(X_test)\n",
        "from sklearn.metrics import accuracy_score, f1_score\n",
        "print('Testing accuracy %s' % accuracy_score(y_test, y_pred))\n",
        "print('Testing F1 score: {}'.format(f1_score(y_test, y_pred, average='weighted')))"
      ],
      "metadata": {
        "colab": {
          "base_uri": "https://localhost:8080/"
        },
        "id": "Q43baN9XgMq_",
        "outputId": "bd45bb84-013c-43ad-e1d9-4dcec1bb66f8"
      },
      "execution_count": 32,
      "outputs": [
        {
          "output_type": "stream",
          "name": "stdout",
          "text": [
            "Testing accuracy 0.6411042944785276\n",
            "Testing F1 score: 0.6380749596446343\n"
          ]
        },
        {
          "output_type": "stream",
          "name": "stderr",
          "text": [
            "/usr/local/lib/python3.9/dist-packages/sklearn/linear_model/_logistic.py:458: ConvergenceWarning: lbfgs failed to converge (status=1):\n",
            "STOP: TOTAL NO. of ITERATIONS REACHED LIMIT.\n",
            "\n",
            "Increase the number of iterations (max_iter) or scale the data as shown in:\n",
            "    https://scikit-learn.org/stable/modules/preprocessing.html\n",
            "Please also refer to the documentation for alternative solver options:\n",
            "    https://scikit-learn.org/stable/modules/linear_model.html#logistic-regression\n",
            "  n_iter_i = _check_optimize_result(\n"
          ]
        }
      ]
    },
    {
      "cell_type": "markdown",
      "source": [
        "## **Doc2Vec Tuning**"
      ],
      "metadata": {
        "id": "IODCaTq5Jbbh"
      }
    },
    {
      "cell_type": "code",
      "source": [
        "%%time\n",
        "vector_size = [200, 400, 500, 600]\n",
        "\n",
        "window_size = [2, 4, 6, 8]\n",
        "\n",
        "for vec_size in vector_size:\n",
        "  for window in window_size: \n",
        "    model_dbow = Doc2Vec(dm=1, vector_size= vec_size, negative=15, hs=0, min_count=2, sample = 0, workers=cores, window = window)\n",
        "    model_dbow.build_vocab([x for x in tqdm(train_tagged.values)])\n",
        "    for epoch in range(50):\n",
        "      model_dbow.train(utils.shuffle([x for x in train_tagged.values]), total_examples=len(train_tagged.values), epochs=1)\n",
        "      model_dbow.alpha -= 0.002\n",
        "      model_dbow.min_alpha = model_dbow.alpha\n",
        "      \n",
        "    y_train, X_train = vec_for_learning(model_dbow, train_tagged)\n",
        "    y_test, X_test = vec_for_learning(model_dbow, test_tagged)\n",
        "    logreg = LogisticRegression(n_jobs=1, C=1e5, max_iter=1000)\n",
        "    logreg.fit(X_train, y_train)\n",
        "    y_pred = logreg.predict(X_test)\n",
        "    print(\"Vector size:\", vec_size, \"Window size:\", window)\n",
        "    print('Testing accuracy %s' % accuracy_score(y_test, y_pred))\n",
        "    print('Testing F1 score: {}'.format(f1_score(y_test, y_pred, average='weighted')))\n",
        "    print()"
      ],
      "metadata": {
        "colab": {
          "base_uri": "https://localhost:8080/"
        },
        "id": "7PGG9QMJ058C",
        "outputId": "373c1699-8ed6-47f6-fcc1-befd978740e0"
      },
      "execution_count": 33,
      "outputs": [
        {
          "output_type": "stream",
          "name": "stderr",
          "text": [
            "100%|██████████| 759/759 [00:00<00:00, 1495292.03it/s]\n",
            "WARNING:gensim.models.word2vec:Effective 'alpha' higher than previous training cycles\n",
            "/usr/local/lib/python3.9/dist-packages/sklearn/linear_model/_logistic.py:458: ConvergenceWarning: lbfgs failed to converge (status=1):\n",
            "STOP: TOTAL NO. of ITERATIONS REACHED LIMIT.\n",
            "\n",
            "Increase the number of iterations (max_iter) or scale the data as shown in:\n",
            "    https://scikit-learn.org/stable/modules/preprocessing.html\n",
            "Please also refer to the documentation for alternative solver options:\n",
            "    https://scikit-learn.org/stable/modules/linear_model.html#logistic-regression\n",
            "  n_iter_i = _check_optimize_result(\n"
          ]
        },
        {
          "output_type": "stream",
          "name": "stdout",
          "text": [
            "Vector size: 200 Window size: 2\n",
            "Testing accuracy 0.6134969325153374\n",
            "Testing F1 score: 0.6144327022038741\n",
            "\n"
          ]
        },
        {
          "output_type": "stream",
          "name": "stderr",
          "text": [
            "100%|██████████| 759/759 [00:00<00:00, 787989.29it/s]\n",
            "WARNING:gensim.models.word2vec:Effective 'alpha' higher than previous training cycles\n"
          ]
        },
        {
          "output_type": "stream",
          "name": "stdout",
          "text": [
            "Vector size: 200 Window size: 4\n",
            "Testing accuracy 0.7116564417177914\n",
            "Testing F1 score: 0.7108600382660967\n",
            "\n"
          ]
        },
        {
          "output_type": "stream",
          "name": "stderr",
          "text": [
            "100%|██████████| 759/759 [00:00<00:00, 757970.65it/s]\n",
            "WARNING:gensim.models.word2vec:Effective 'alpha' higher than previous training cycles\n"
          ]
        },
        {
          "output_type": "stream",
          "name": "stdout",
          "text": [
            "Vector size: 200 Window size: 6\n",
            "Testing accuracy 0.6503067484662577\n",
            "Testing F1 score: 0.6537810977115011\n",
            "\n"
          ]
        },
        {
          "output_type": "stream",
          "name": "stderr",
          "text": [
            "100%|██████████| 759/759 [00:00<00:00, 773815.44it/s]\n",
            "WARNING:gensim.models.word2vec:Effective 'alpha' higher than previous training cycles\n"
          ]
        },
        {
          "output_type": "stream",
          "name": "stdout",
          "text": [
            "Vector size: 200 Window size: 8\n",
            "Testing accuracy 0.6840490797546013\n",
            "Testing F1 score: 0.6819302049181302\n",
            "\n"
          ]
        },
        {
          "output_type": "stream",
          "name": "stderr",
          "text": [
            "100%|██████████| 759/759 [00:00<00:00, 1009025.91it/s]\n",
            "WARNING:gensim.models.word2vec:Effective 'alpha' higher than previous training cycles\n",
            "/usr/local/lib/python3.9/dist-packages/sklearn/linear_model/_logistic.py:458: ConvergenceWarning: lbfgs failed to converge (status=1):\n",
            "STOP: TOTAL NO. of ITERATIONS REACHED LIMIT.\n",
            "\n",
            "Increase the number of iterations (max_iter) or scale the data as shown in:\n",
            "    https://scikit-learn.org/stable/modules/preprocessing.html\n",
            "Please also refer to the documentation for alternative solver options:\n",
            "    https://scikit-learn.org/stable/modules/linear_model.html#logistic-regression\n",
            "  n_iter_i = _check_optimize_result(\n"
          ]
        },
        {
          "output_type": "stream",
          "name": "stdout",
          "text": [
            "Vector size: 400 Window size: 2\n",
            "Testing accuracy 0.6042944785276073\n",
            "Testing F1 score: 0.6072143215363016\n",
            "\n"
          ]
        },
        {
          "output_type": "stream",
          "name": "stderr",
          "text": [
            "100%|██████████| 759/759 [00:00<00:00, 1455636.37it/s]\n",
            "WARNING:gensim.models.word2vec:Effective 'alpha' higher than previous training cycles\n"
          ]
        },
        {
          "output_type": "stream",
          "name": "stdout",
          "text": [
            "Vector size: 400 Window size: 4\n",
            "Testing accuracy 0.6288343558282209\n",
            "Testing F1 score: 0.6310092036720569\n",
            "\n"
          ]
        },
        {
          "output_type": "stream",
          "name": "stderr",
          "text": [
            "100%|██████████| 759/759 [00:00<00:00, 847345.42it/s]\n",
            "WARNING:gensim.models.word2vec:Effective 'alpha' higher than previous training cycles\n"
          ]
        },
        {
          "output_type": "stream",
          "name": "stdout",
          "text": [
            "Vector size: 400 Window size: 6\n",
            "Testing accuracy 0.6901840490797546\n",
            "Testing F1 score: 0.6890976198549145\n",
            "\n"
          ]
        },
        {
          "output_type": "stream",
          "name": "stderr",
          "text": [
            "100%|██████████| 759/759 [00:00<00:00, 1398715.61it/s]\n",
            "WARNING:gensim.models.word2vec:Effective 'alpha' higher than previous training cycles\n"
          ]
        },
        {
          "output_type": "stream",
          "name": "stdout",
          "text": [
            "Vector size: 400 Window size: 8\n",
            "Testing accuracy 0.6871165644171779\n",
            "Testing F1 score: 0.6882135884228834\n",
            "\n"
          ]
        },
        {
          "output_type": "stream",
          "name": "stderr",
          "text": [
            "100%|██████████| 759/759 [00:00<00:00, 1176016.53it/s]\n",
            "WARNING:gensim.models.word2vec:Effective 'alpha' higher than previous training cycles\n",
            "/usr/local/lib/python3.9/dist-packages/sklearn/linear_model/_logistic.py:458: ConvergenceWarning: lbfgs failed to converge (status=1):\n",
            "STOP: TOTAL NO. of ITERATIONS REACHED LIMIT.\n",
            "\n",
            "Increase the number of iterations (max_iter) or scale the data as shown in:\n",
            "    https://scikit-learn.org/stable/modules/preprocessing.html\n",
            "Please also refer to the documentation for alternative solver options:\n",
            "    https://scikit-learn.org/stable/modules/linear_model.html#logistic-regression\n",
            "  n_iter_i = _check_optimize_result(\n"
          ]
        },
        {
          "output_type": "stream",
          "name": "stdout",
          "text": [
            "Vector size: 500 Window size: 2\n",
            "Testing accuracy 0.6319018404907976\n",
            "Testing F1 score: 0.628463044206657\n",
            "\n"
          ]
        },
        {
          "output_type": "stream",
          "name": "stderr",
          "text": [
            "100%|██████████| 759/759 [00:00<00:00, 305310.90it/s]\n",
            "WARNING:gensim.models.word2vec:Effective 'alpha' higher than previous training cycles\n"
          ]
        },
        {
          "output_type": "stream",
          "name": "stdout",
          "text": [
            "Vector size: 500 Window size: 4\n",
            "Testing accuracy 0.7239263803680982\n",
            "Testing F1 score: 0.7218386594634192\n",
            "\n"
          ]
        },
        {
          "output_type": "stream",
          "name": "stderr",
          "text": [
            "100%|██████████| 759/759 [00:00<00:00, 716676.44it/s]\n",
            "WARNING:gensim.models.word2vec:Effective 'alpha' higher than previous training cycles\n"
          ]
        },
        {
          "output_type": "stream",
          "name": "stdout",
          "text": [
            "Vector size: 500 Window size: 6\n",
            "Testing accuracy 0.7024539877300614\n",
            "Testing F1 score: 0.7026435056259913\n",
            "\n"
          ]
        },
        {
          "output_type": "stream",
          "name": "stderr",
          "text": [
            "100%|██████████| 759/759 [00:00<00:00, 853021.63it/s]\n",
            "WARNING:gensim.models.word2vec:Effective 'alpha' higher than previous training cycles\n"
          ]
        },
        {
          "output_type": "stream",
          "name": "stdout",
          "text": [
            "Vector size: 500 Window size: 8\n",
            "Testing accuracy 0.6595092024539877\n",
            "Testing F1 score: 0.6588149051078613\n",
            "\n"
          ]
        },
        {
          "output_type": "stream",
          "name": "stderr",
          "text": [
            "100%|██████████| 759/759 [00:00<00:00, 783914.49it/s]\n",
            "WARNING:gensim.models.word2vec:Effective 'alpha' higher than previous training cycles\n",
            "/usr/local/lib/python3.9/dist-packages/sklearn/linear_model/_logistic.py:458: ConvergenceWarning: lbfgs failed to converge (status=1):\n",
            "STOP: TOTAL NO. of ITERATIONS REACHED LIMIT.\n",
            "\n",
            "Increase the number of iterations (max_iter) or scale the data as shown in:\n",
            "    https://scikit-learn.org/stable/modules/preprocessing.html\n",
            "Please also refer to the documentation for alternative solver options:\n",
            "    https://scikit-learn.org/stable/modules/linear_model.html#logistic-regression\n",
            "  n_iter_i = _check_optimize_result(\n"
          ]
        },
        {
          "output_type": "stream",
          "name": "stdout",
          "text": [
            "Vector size: 600 Window size: 2\n",
            "Testing accuracy 0.6411042944785276\n",
            "Testing F1 score: 0.6386974172370994\n",
            "\n"
          ]
        },
        {
          "output_type": "stream",
          "name": "stderr",
          "text": [
            "100%|██████████| 759/759 [00:00<00:00, 1190975.21it/s]\n",
            "WARNING:gensim.models.word2vec:Effective 'alpha' higher than previous training cycles\n"
          ]
        },
        {
          "output_type": "stream",
          "name": "stdout",
          "text": [
            "Vector size: 600 Window size: 4\n",
            "Testing accuracy 0.6840490797546013\n",
            "Testing F1 score: 0.6829411370797641\n",
            "\n"
          ]
        },
        {
          "output_type": "stream",
          "name": "stderr",
          "text": [
            "100%|██████████| 759/759 [00:00<00:00, 738283.10it/s]\n",
            "WARNING:gensim.models.word2vec:Effective 'alpha' higher than previous training cycles\n"
          ]
        },
        {
          "output_type": "stream",
          "name": "stdout",
          "text": [
            "Vector size: 600 Window size: 6\n",
            "Testing accuracy 0.6993865030674846\n",
            "Testing F1 score: 0.6981018808355094\n",
            "\n"
          ]
        },
        {
          "output_type": "stream",
          "name": "stderr",
          "text": [
            "100%|██████████| 759/759 [00:00<00:00, 820272.28it/s]\n",
            "WARNING:gensim.models.word2vec:Effective 'alpha' higher than previous training cycles\n"
          ]
        },
        {
          "output_type": "stream",
          "name": "stdout",
          "text": [
            "Vector size: 600 Window size: 8\n",
            "Testing accuracy 0.6932515337423313\n",
            "Testing F1 score: 0.6909318438482434\n",
            "\n",
            "CPU times: user 1h 31min 13s, sys: 21.7 s, total: 1h 31min 34s\n",
            "Wall time: 55min 7s\n"
          ]
        }
      ]
    },
    {
      "cell_type": "markdown",
      "source": [
        "# **Word2Vec**"
      ],
      "metadata": {
        "id": "IgWtAEurJmd7"
      }
    },
    {
      "cell_type": "code",
      "source": [
        "import numpy as np\n",
        "from collections import defaultdict\n",
        "import random\n",
        "\n",
        "class SkipGramNS:\n",
        "    def __init__(self, corpus, vocab_size, embedding_size, neg_sampling_rate=5, window_size=5, learning_rate=0.01):\n",
        "        self.corpus = corpus\n",
        "        self.vocab_size = vocab_size\n",
        "        self.embedding_size = embedding_size\n",
        "        self.neg_sampling_rate = neg_sampling_rate\n",
        "        self.window_size = window_size\n",
        "        self.learning_rate = learning_rate\n",
        "        \n",
        "        # Initialize the word vectors randomly\n",
        "        #self.word_vectors = np.random.uniform(low=-0.5/embedding_size, high=0.5/embedding_size, size=(vocab_size, embedding_size))\n",
        "\n",
        "        # Initialize the context vectors to zeros\n",
        "        #self.context_vectors = np.zeros(shape=(vocab_size, embedding_size))\n",
        "\n",
        "        # Initialize the word vectors randomly\n",
        "        self.word_vectors = np.random.randn(vocab_size, embedding_size)\n",
        "\n",
        "        # Initialize the context vectors to zeros\n",
        "        self.context_vectors = np.random.randn(vocab_size, embedding_size)\n",
        "        \n",
        "        # Initialize the biases to zeros\n",
        "        self.word_biases = np.zeros(shape=(vocab_size,))\n",
        "        self.context_biases = np.zeros(shape=(vocab_size,))\n",
        "\n",
        "    # Define sigmoid function\n",
        "    def sigmoid(self, x):\n",
        "      return 1 / (1 + np.exp(-x)) \n",
        "\n",
        "    # Build the word frequency table for negative sampling\n",
        "    def get_negative_prob(self, corpus):\n",
        "      word_freq = defaultdict(int)\n",
        "      for word in self.corpus:\n",
        "        word_freq[word] += 1\n",
        "        \n",
        "      total_word_freq = sum(word_freq.values())\n",
        "      word_probs = {word: freq / total_word_freq for word, freq in word_freq.items()}\n",
        "\n",
        "      # Negative sampling probabilities\n",
        "      noise_dist = {key: val ** (3/4) for key, val in word_probs.items()}\n",
        "      Z = sum(noise_dist.values())\n",
        "      noise_dist_normalized = {key: val / Z for key, val in noise_dist.items()}\n",
        "      return noise_dist_normalized\n",
        "\n",
        "    def get_negative_samples(self, context_word):\n",
        "      negative_samples = []\n",
        "      noise_dist_normalized = self.get_negative_prob(corpus)\n",
        "\n",
        "      while len(negative_samples) < self.neg_sampling_rate:\n",
        "        sample_list = np.random.choice(list(noise_dist_normalized.keys()), size = self.neg_sampling_rate, p=list(noise_dist_normalized.values()))\n",
        "        for sample in sample_list:\n",
        "          if sample != context_word and sample not in negative_samples:\n",
        "            negative_samples.append(sample)\n",
        "            return negative_samples\n",
        "        \n",
        "        \n",
        "    def train(self, num_epochs):\n",
        "        for epoch in range(num_epochs):\n",
        "            loss = 0\n",
        "            \n",
        "            for i, word in enumerate(self.corpus):\n",
        "                # Get the context words for this center word\n",
        "                context_words = self.corpus[max(0, i - self.window_size) : i] + self.corpus[i + 1 : i + self.window_size + 1]\n",
        "                center_word_id = word2idx[word]\n",
        "                \n",
        "                # Loop over each context word and update the embeddings\n",
        "                for context_word_i in context_words:\n",
        "                    context_word_id = word2idx[context_word_i]\n",
        "                    # Perform negative sampling to get negative samples\n",
        "                    negative_samples = self.get_negative_samples(context_word_i)\n",
        "                    \n",
        "                    # Update the center word vector and bias\n",
        "                    center_vector = self.word_vectors[center_word_id]\n",
        "                    center_bias = self.word_biases[center_word_id]\n",
        "                    context_vector = self.context_vectors[context_word_id]\n",
        "                    context_bias = self.context_biases[context_word_id]\n",
        "                    \n",
        "                    pos_score = np.dot(center_vector, np.transpose(context_vector)) + center_bias + context_bias\n",
        "                    pos_score_grad = self.sigmoid(pos_score) - 1\n",
        "                    \n",
        "                    center_vector_grad = pos_score_grad * context_vector\n",
        "                    center_bias_grad = pos_score_grad\n",
        "                    context_vector_grad = pos_score_grad * center_vector\n",
        "                    context_bias_grad = pos_score_grad\n",
        "                    \n",
        "                    loss -= np.log(self.sigmoid(pos_score))\n",
        "                    \n",
        "                    # Loop over each negative sample and update the embeddings\n",
        "                    for negative_sample in negative_samples:\n",
        "                        negative_sample_id = word2idx[negative_sample]\n",
        "                        negative_vector = self.context_vectors[negative_sample_id]\n",
        "                        negative_bias = self.context_biases[negative_sample_id]\n",
        "                        \n",
        "                        neg_score = np.dot(center_vector, np.transpose(negative_vector)) + center_bias + negative_bias\n",
        "                        neg_score_grad = self.sigmoid(neg_score)\n",
        "                        \n",
        "                        center_vector_grad += neg_score_grad * negative_vector\n",
        "                        center_bias_grad += neg_score_grad\n",
        "                        negative_vector_grad = neg_score_grad * center_vector\n",
        "                        negative_bias_grad = neg_score_grad\n",
        "                        \n",
        "                        loss -= np.log(self.sigmoid(-neg_score))\n",
        "                        \n",
        "                        # Update the negative sample context vector and bias\n",
        "                        self.context_vectors[negative_sample_id] -= self.learning_rate * negative_vector_grad\n",
        "                        self.context_biases[negative_sample_id] -= self.learning_rate * negative_bias_grad\n",
        "                        \n",
        "                    # Update the center word vector and bias\n",
        "                    self.word_vectors[center_word_id] -= self.learning_rate * center_vector_grad\n",
        "                    self.word_biases[center_word_id] -= self.learning_rate * center_bias_grad\n",
        "\n",
        "            print(f\"Loss after epoch {epoch}: {loss / len(corpus)}\")\n",
        "\n",
        "        return self, self.word_vectors\n",
        "                    \n",
        "                #if i % 100000 == 0:\n",
        "                    #print(f\"Processed {i} words in epoch {epoch}\")\n",
        "                    \n",
        "            #print(f\"Loss after epoch {epoch}: {loss / self.total_words}\")\n",
        "            \n"
      ],
      "metadata": {
        "id": "jjJ7OO7EyYA1"
      },
      "execution_count": null,
      "outputs": []
    },
    {
      "cell_type": "code",
      "source": [
        "word_vectors = SkipGramNS(corpus, vocab_size = vocabulary_size, embedding_size = 10, neg_sampling_rate=5, window_size=2, learning_rate=0.01).train(5).to(device=device)"
      ],
      "metadata": {
        "id": "d7_vxa-l5J3c"
      },
      "execution_count": null,
      "outputs": []
    },
    {
      "cell_type": "markdown",
      "source": [
        "#**BERT**"
      ],
      "metadata": {
        "id": "S7uEDAfk0Mdy"
      }
    },
    {
      "cell_type": "code",
      "source": [
        "text_train = train[\"tweet_str\"]\n",
        "text_test = test[\"tweet_str\"]\n",
        "\n",
        "y_train = train[\"gender_bi\"]\n",
        "y_test = test[\"gender_bi\"]"
      ],
      "metadata": {
        "id": "R8j0ZJ-TuxDO"
      },
      "execution_count": 34,
      "outputs": []
    },
    {
      "cell_type": "code",
      "source": [
        "!pip install --upgrade torch\n",
        "!pip install --upgrade transformers"
      ],
      "metadata": {
        "colab": {
          "base_uri": "https://localhost:8080/"
        },
        "id": "qlwQKEF6RK4L",
        "outputId": "4f91d9aa-df3d-401e-c449-43de3f75eda5"
      },
      "execution_count": 41,
      "outputs": [
        {
          "output_type": "stream",
          "name": "stdout",
          "text": [
            "Looking in indexes: https://pypi.org/simple, https://us-python.pkg.dev/colab-wheels/public/simple/\n",
            "Requirement already satisfied: torch in /usr/local/lib/python3.9/dist-packages (2.0.0+cu118)\n",
            "Requirement already satisfied: triton==2.0.0 in /usr/local/lib/python3.9/dist-packages (from torch) (2.0.0)\n",
            "Requirement already satisfied: filelock in /usr/local/lib/python3.9/dist-packages (from torch) (3.11.0)\n",
            "Requirement already satisfied: typing-extensions in /usr/local/lib/python3.9/dist-packages (from torch) (4.5.0)\n",
            "Requirement already satisfied: networkx in /usr/local/lib/python3.9/dist-packages (from torch) (3.1)\n",
            "Requirement already satisfied: jinja2 in /usr/local/lib/python3.9/dist-packages (from torch) (3.1.2)\n",
            "Requirement already satisfied: sympy in /usr/local/lib/python3.9/dist-packages (from torch) (1.11.1)\n",
            "Requirement already satisfied: cmake in /usr/local/lib/python3.9/dist-packages (from triton==2.0.0->torch) (3.25.2)\n",
            "Requirement already satisfied: lit in /usr/local/lib/python3.9/dist-packages (from triton==2.0.0->torch) (16.0.1)\n",
            "Requirement already satisfied: MarkupSafe>=2.0 in /usr/local/lib/python3.9/dist-packages (from jinja2->torch) (2.1.2)\n",
            "Requirement already satisfied: mpmath>=0.19 in /usr/local/lib/python3.9/dist-packages (from sympy->torch) (1.3.0)\n",
            "Looking in indexes: https://pypi.org/simple, https://us-python.pkg.dev/colab-wheels/public/simple/\n",
            "Collecting transformers\n",
            "  Downloading transformers-4.28.1-py3-none-any.whl (7.0 MB)\n",
            "\u001b[2K     \u001b[90m━━━━━━━━━━━━━━━━━━━━━━━━━━━━━━━━━━━━━━━━\u001b[0m \u001b[32m7.0/7.0 MB\u001b[0m \u001b[31m46.7 MB/s\u001b[0m eta \u001b[36m0:00:00\u001b[0m\n",
            "\u001b[?25hRequirement already satisfied: regex!=2019.12.17 in /usr/local/lib/python3.9/dist-packages (from transformers) (2022.10.31)\n",
            "Collecting tokenizers!=0.11.3,<0.14,>=0.11.1\n",
            "  Downloading tokenizers-0.13.3-cp39-cp39-manylinux_2_17_x86_64.manylinux2014_x86_64.whl (7.8 MB)\n",
            "\u001b[2K     \u001b[90m━━━━━━━━━━━━━━━━━━━━━━━━━━━━━━━━━━━━━━━━\u001b[0m \u001b[32m7.8/7.8 MB\u001b[0m \u001b[31m62.7 MB/s\u001b[0m eta \u001b[36m0:00:00\u001b[0m\n",
            "\u001b[?25hCollecting huggingface-hub<1.0,>=0.11.0\n",
            "  Downloading huggingface_hub-0.13.4-py3-none-any.whl (200 kB)\n",
            "\u001b[2K     \u001b[90m━━━━━━━━━━━━━━━━━━━━━━━━━━━━━━━━━━━━━━\u001b[0m \u001b[32m200.1/200.1 kB\u001b[0m \u001b[31m22.2 MB/s\u001b[0m eta \u001b[36m0:00:00\u001b[0m\n",
            "\u001b[?25hRequirement already satisfied: tqdm>=4.27 in /usr/local/lib/python3.9/dist-packages (from transformers) (4.65.0)\n",
            "Requirement already satisfied: pyyaml>=5.1 in /usr/local/lib/python3.9/dist-packages (from transformers) (6.0)\n",
            "Requirement already satisfied: packaging>=20.0 in /usr/local/lib/python3.9/dist-packages (from transformers) (23.1)\n",
            "Requirement already satisfied: filelock in /usr/local/lib/python3.9/dist-packages (from transformers) (3.11.0)\n",
            "Requirement already satisfied: requests in /usr/local/lib/python3.9/dist-packages (from transformers) (2.27.1)\n",
            "Requirement already satisfied: numpy>=1.17 in /usr/local/lib/python3.9/dist-packages (from transformers) (1.22.4)\n",
            "Requirement already satisfied: typing-extensions>=3.7.4.3 in /usr/local/lib/python3.9/dist-packages (from huggingface-hub<1.0,>=0.11.0->transformers) (4.5.0)\n",
            "Requirement already satisfied: certifi>=2017.4.17 in /usr/local/lib/python3.9/dist-packages (from requests->transformers) (2022.12.7)\n",
            "Requirement already satisfied: charset-normalizer~=2.0.0 in /usr/local/lib/python3.9/dist-packages (from requests->transformers) (2.0.12)\n",
            "Requirement already satisfied: idna<4,>=2.5 in /usr/local/lib/python3.9/dist-packages (from requests->transformers) (3.4)\n",
            "Requirement already satisfied: urllib3<1.27,>=1.21.1 in /usr/local/lib/python3.9/dist-packages (from requests->transformers) (1.26.15)\n",
            "Installing collected packages: tokenizers, huggingface-hub, transformers\n",
            "Successfully installed huggingface-hub-0.13.4 tokenizers-0.13.3 transformers-4.28.1\n"
          ]
        }
      ]
    },
    {
      "cell_type": "code",
      "source": [
        "from transformers import BertTokenizer, BertModel, BertConfig"
      ],
      "metadata": {
        "id": "nBd9EcU_0W3l"
      },
      "execution_count": 42,
      "outputs": []
    },
    {
      "cell_type": "code",
      "source": [
        "# Define the hyperparameters for BERT pretraining\n",
        "config = BertConfig(\n",
        "    num_hidden_layers=24,\n",
        "    num_attention_heads=16,\n",
        "    hidden_size=768,\n",
        "    intermediate_size=3072,\n",
        "    max_position_embeddings=512,\n",
        "    dropout=0.6,\n",
        "    attention_probs_dropout_prob=0.2\n",
        ")\n",
        "\n",
        "# Instantiate the BERT pretraining model with the specified hyperparameters\n",
        "model = BertModel.from_pretrained('bert-base-uncased', config=config)"
      ],
      "metadata": {
        "colab": {
          "base_uri": "https://localhost:8080/"
        },
        "id": "n6gVt-cFG0TV",
        "outputId": "fd27f211-4182-4650-8a1a-026fec272707"
      },
      "execution_count": 54,
      "outputs": [
        {
          "output_type": "stream",
          "name": "stderr",
          "text": [
            "Some weights of the model checkpoint at bert-base-uncased were not used when initializing BertModel: ['cls.predictions.transform.dense.weight', 'cls.predictions.transform.LayerNorm.weight', 'cls.predictions.transform.dense.bias', 'cls.predictions.transform.LayerNorm.bias', 'cls.seq_relationship.weight', 'cls.predictions.decoder.weight', 'cls.seq_relationship.bias', 'cls.predictions.bias']\n",
            "- This IS expected if you are initializing BertModel from the checkpoint of a model trained on another task or with another architecture (e.g. initializing a BertForSequenceClassification model from a BertForPreTraining model).\n",
            "- This IS NOT expected if you are initializing BertModel from the checkpoint of a model that you expect to be exactly identical (initializing a BertForSequenceClassification model from a BertForSequenceClassification model).\n"
          ]
        }
      ]
    },
    {
      "cell_type": "code",
      "source": [
        "# Load the pre-trained BERT tokenizer and model\n",
        "tokenizer = BertTokenizer.from_pretrained('bert-base-uncased')\n",
        "#model = BertModel.from_pretrained('bert-base-uncased')\n",
        "\n",
        "# Define a function to encode a sentence using BERT and return the pooled output\n",
        "def bert_encode(sentence):\n",
        "    inputs = tokenizer(sentence, return_tensors='pt', padding=True, truncation=True)\n",
        "    outputs = model(**inputs)\n",
        "    return outputs.pooler_output.detach().numpy()[0]"
      ],
      "metadata": {
        "id": "lGtSqhfFLuEB"
      },
      "execution_count": 55,
      "outputs": []
    },
    {
      "cell_type": "code",
      "source": [
        "%%time\n",
        "train_bert = train['tweet_str']\n",
        "X_train_bert = [bert_encode(sentence) for sentence in train_bert]"
      ],
      "metadata": {
        "colab": {
          "base_uri": "https://localhost:8080/"
        },
        "id": "lou_M_1r0f7e",
        "outputId": "4b17580f-a609-43c7-ba05-c921b1bfa0d9"
      },
      "execution_count": 56,
      "outputs": [
        {
          "output_type": "stream",
          "name": "stdout",
          "text": [
            "CPU times: user 47min 48s, sys: 3min 35s, total: 51min 23s\n",
            "Wall time: 51min 43s\n"
          ]
        }
      ]
    },
    {
      "cell_type": "code",
      "source": [
        "%%time\n",
        "test_bert = test['tweet_str']\n",
        "X_test_bert = [bert_encode(sentence) for sentence in test_bert]"
      ],
      "metadata": {
        "colab": {
          "base_uri": "https://localhost:8080/"
        },
        "id": "9yhbf3VML1oc",
        "outputId": "e1fd2d96-4d26-46e4-e7e7-9e29eb18f53e"
      },
      "execution_count": 57,
      "outputs": [
        {
          "output_type": "stream",
          "name": "stdout",
          "text": [
            "CPU times: user 20min 37s, sys: 1min 34s, total: 22min 12s\n",
            "Wall time: 22min 21s\n"
          ]
        }
      ]
    },
    {
      "cell_type": "code",
      "source": [
        "from sklearn.linear_model import LogisticRegression\n",
        "logreg = LogisticRegression(n_jobs=1, C=1e5, max_iter=10000)\n",
        "logreg.fit(X_train_bert, y_train)\n",
        "y_pred = logreg.predict(X_test_bert)\n",
        "print('Testing accuracy %s' % accuracy_score(y_test, y_pred))\n",
        "print('Testing F1 score: {}'.format(f1_score(y_test, y_pred, average='weighted')))"
      ],
      "metadata": {
        "colab": {
          "base_uri": "https://localhost:8080/"
        },
        "id": "K3c-cY0g1Gk5",
        "outputId": "9182abc3-8d22-4196-9d12-52d620205f7c"
      },
      "execution_count": 58,
      "outputs": [
        {
          "output_type": "stream",
          "name": "stdout",
          "text": [
            "Testing accuracy 0.6104294478527608\n",
            "Testing F1 score: 0.6135535130266587\n"
          ]
        }
      ]
    }
  ]
}